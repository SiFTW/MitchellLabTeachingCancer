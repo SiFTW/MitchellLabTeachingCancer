{
 "cells": [
  {
   "cell_type": "markdown",
   "id": "832cf47a",
   "metadata": {},
   "source": [
    "# Cell cycle model "
   ]
  },
  {
   "cell_type": "markdown",
   "id": "d04e25f3",
   "metadata": {},
   "source": [
    "## Build the model by importing parameters, reactions and rate laws, and define functions that enable simulation of the cell cycle "
   ]
  },
  {
   "cell_type": "markdown",
   "id": "d64b2d34",
   "metadata": {},
   "source": [
    "### hit shift+Enter to run the code below"
   ]
  },
  {
   "cell_type": "code",
   "execution_count": 12,
   "id": "ee61ddaa",
   "metadata": {},
   "outputs": [],
   "source": [
    "using DifferentialEquations, DataFrames, Plots, CSV, Sundials, JLD2, OrdinaryDiffEq, DelimitedFiles"
   ]
  },
  {
   "cell_type": "code",
   "execution_count": 13,
   "id": "a97652d0",
   "metadata": {},
   "outputs": [
    {
     "data": {
      "text/plain": [
       "condition (generic function with 1 method)"
      ]
     },
     "execution_count": 13,
     "metadata": {},
     "output_type": "execute_result"
    }
   ],
   "source": [
    "function condition(cellcycle,t,integrator) # Event when event_f(u,t) == 0\n",
    "      #numberator: Rb + E2F:Rb +  pE2F:Rb\n",
    "      #denominator: Rb + E2F:Rb +  pE2F:Rb + hypophosphorylated Rb\n",
    "      include(locationOfVariableNames)\n",
    "      indexOfRb=findfirst(x->\"Rb\"==x,syms)\n",
    "      indexOfE2FRb=findfirst(x->\"E2F_Rb\"==x,syms)\n",
    "      indexOfpE2FRb=findfirst(x->\"pE2F_Rb\"==x,syms)\n",
    "      indexOfHypoPRb=findfirst(x->\"HypoP_Rb\"==x,syms)\n",
    "      #numberator: Rb + E2F:Rb +  pE2F:Rb\n",
    "      #denominator: Rb + E2F:Rb +  pE2F:Rb + hypophosphorylated Rb\n",
    "      numerator= cellcycle[indexOfRb]+cellcycle[indexOfE2FRb]+cellcycle[indexOfpE2FRb];  #ACTIVE RB\n",
    "      denominator = numerator+cellcycle[indexOfHypoPRb]; #TOTAL RB\n",
    "\n",
    "      #GM growth (biosynthesis of ribosomes and all necessary machinery)\n",
    "      #previous iterations had numerator/denominator<0.8\n",
    "      #diffEq.jl requires a function that hits 0\n",
    "      (numerator/denominator)-0.8\n",
    "end\n",
    "\n",
    "function affect!(integrator)\n",
    "  print(\"r31 event to 0\\n\")\n",
    "  #update r31Switch to 0\n",
    "  include(locationOfVariableNames)\n",
    "  indexOfSwitch=findfirst(x->\"r31switch\"==x,syms)\n",
    "  integrator.u[indexOfSwitch] = 0\n",
    "end\n",
    "\n",
    "function affectNeg!(integrator)\n",
    "  print(\"r31 event to 1\\n\")\n",
    "  include(locationOfVariableNames)\n",
    "  indexOfSwitch=findfirst(x->\"r31switch\"==x,syms)\n",
    "  #update r31Switch to 1\n",
    "  integrator.u[indexOfSwitch] = 1\n",
    "end\n",
    "\n",
    "function conditionCdh(cellcycle,t,integrator) # Event when event_f(u,t) == 0\n",
    "      include(locationOfVariableNames)\n",
    "      indexOfCdh1=findfirst(x->\"Cdh1\"==x,syms)\n",
    "      #triggers when Cdh1 crosses 0.2 in the positive direction\n",
    "      cellcycle[indexOfCdh1]-0.2\n",
    "end\n",
    "\n",
    "## all equal function\n",
    "function allequal(obj)\n",
    "    local x\n",
    "    isfirst = true\n",
    "    for i in obj\n",
    "        if isfirst\n",
    "            x = i\n",
    "            isfirst = false\n",
    "        else\n",
    "            isequal(x, i) || return false\n",
    "        end\n",
    "    end\n",
    "    return true\n",
    "end\n",
    "\n",
    "function affectCdh!(integrator)\n",
    "  include(locationOfVariableNames)\n",
    "  indexOfMass=findfirst(x->\"Mass\"==x,syms)\n",
    "  indexOfGM=findfirst(x->\"GM\"==x,syms)\n",
    "  indexNewSwitch=findfirst(x->\"newSwitch\"==x,syms)\n",
    "\n",
    "  #triggers when Cdh1 crosses 0.2 in the positive direction\n",
    "  #update Mass to 0.5* mass\n",
    "\n",
    "  # get mass value just before divide\n",
    "  mass_cyc = integrator.u[indexOfMass]\n",
    "  time = integrator.t\n",
    "  # push mass value to array\n",
    "  push!(mass_array, mass_cyc)\n",
    "  # push mass peak time to array\n",
    "  push!(mass_peak_time, time)\n",
    "  # if mass_array > 5, round mass values, and compare last 5\n",
    "  n=size(mass_array,1)\n",
    "  if n>6\n",
    "    mass_array_last = last(mass_array, 6)\n",
    "    mass_array_rnd = round.(mass_array_last, digits = 3)\n",
    "    if allequal(mass_array_rnd) == true\n",
    "      terminate!(integrator)\n",
    "      return(mass_array, mass_peak_time)\n",
    "    else\n",
    "  integrator.u[indexOfMass] = 0.5*integrator.u[indexOfMass]\n",
    "  #Gm to 0.5 * Gm\n",
    "  integrator.u[indexOfGM]=0.5*integrator.u[indexOfGM]\n",
    "end\n",
    "end\n",
    "  if integrator.u[indexOfMass]<0.5\n",
    "    print(\"new switch 0 during division\\n\")\n",
    "    integrator.u[indexNewSwitch]=0\n",
    "  else\n",
    "    print(\"new switch 1 during division\\n\")\n",
    "    integrator.u[indexNewSwitch]=1\n",
    "  end\n",
    "  print(\"division event\\n\")\n",
    "end\n",
    "\n",
    "## extra functions to stop the cell cycling when mass drops below 0.5\n",
    "\n",
    "function conditionMass(cellcycle,t,integrator) # Event when event_f(u,t) == 0\n",
    "      include(locationOfVariableNames)\n",
    "      indexMass=findfirst(x->\"Mass\"==x,syms)\n",
    "      #triggers when mass crosses 0.5\n",
    "      cellcycle[indexMass]-0.5\n",
    "end\n",
    "\n",
    "function affectMass!(integrator)\n",
    "    include(locationOfVariableNames)\n",
    "    indexNewSwitch=findfirst(x->\"newSwitch\"==x,syms)\n",
    "    integrator.u[indexNewSwitch] = 1\n",
    "    print(\"new switch 1\\n\")\n",
    "end\n",
    "\n",
    "function affectMassNeg!(integrator)\n",
    "    include(locationOfVariableNames)\n",
    "    indexNewSwitch=findfirst(x->\"newSwitch\"==x,syms)\n",
    "    integrator.u[indexNewSwitch] = 0\n",
    "    print(\"new switch 0\\n\")\n",
    "end"
   ]
  },
  {
   "cell_type": "code",
   "execution_count": 22,
   "id": "976a7c82",
   "metadata": {},
   "outputs": [
    {
     "data": {
      "text/plain": [
       "ContinuousCallback{typeof(condition), typeof(affect!), typeof(affectNeg!), typeof(DiffEqBase.INITIALIZE_DEFAULT), typeof(DiffEqBase.FINALIZE_DEFAULT), Float64, Int64, Rational{Int64}, Nothing, Int64}(condition, affect!, affectNeg!, DiffEqBase.INITIALIZE_DEFAULT, DiffEqBase.FINALIZE_DEFAULT, nothing, DiffEqBase.LeftRootFind, 10, Bool[1, 1], 1, 2.220446049250313e-15, 0, 1//100)"
      ]
     },
     "execution_count": 22,
     "metadata": {},
     "output_type": "execute_result"
    }
   ],
   "source": [
    "#use the callbacks described above to trigger events\n",
    "cb = ContinuousCallback(condition,affect!,affectNeg!)\n",
    "cb2 = ContinuousCallback(conditionCdh,affectCdh!,nothing)\n",
    "cb3 = ContinuousCallback(conditionMass,affectMass!,affectMassNeg!)\n",
    "cbs=CallbackSet(cb,cb2,cb3)"
   ]
  },
  {
   "cell_type": "markdown",
   "id": "b7933e67",
   "metadata": {},
   "source": [
    "### This function calculates the time point in the solution of the model at which transitions between different\n",
    "### stages of the cell cycle occur."
   ]
  },
  {
   "cell_type": "code",
   "execution_count": 26,
   "id": "489f3aeb",
   "metadata": {},
   "outputs": [
    {
     "data": {
      "text/plain": [
       "Get_CC_transitions (generic function with 1 method)"
      ]
     },
     "execution_count": 26,
     "metadata": {},
     "output_type": "execute_result"
    }
   ],
   "source": [
    "function Get_CC_transitions(sol_df)\n",
    "  Cdh1_col = columnindex(sol_df, :Cdh1)\n",
    "  cycA_col = columnindex(sol_df, :cycA)\n",
    "  cycB_col = columnindex(sol_df, :cycB)\n",
    "  cycE_col = columnindex(sol_df, :cycE)\n",
    "  Mass_col = columnindex(sol_df, :Mass)\n",
    "\n",
    "  sol_SS_cc = sol_SS[:, [Cdh1_col,cycA_col,cycB_col,cycE_col,Mass_col]]\n",
    "\n",
    "  # G1 -> S boundary when cycB is > 0 (or close to 0)cycB_peak_df = convert_colname(max_cycB[2])\n",
    "  # S to G2 when CycE is gone but before peak in CycA\n",
    "  # G2 to M at peak of CycB before rapid decrease in CycB, CycA should already be decreasing and about half way gone.\n",
    "\n",
    "  SS_zero = convert(Int64, round(time_stamp_SS[1], digits=0))\n",
    "\n",
    "  ##G1/S\n",
    "  max_Cdh1 = findmax(sol_SS_cc[:,1])\n",
    "  submax_Cdh1 = (max_Cdh1[1]/100)*95\n",
    "  submax_Cdh1 = findfirst(x->x>submax_Cdh1, sol_SS_cc[:,1])\n",
    "  G1S_df = sol_SS_cc[submax_Cdh1:nrow(sol_SS_cc),:]\n",
    "  col_Cdh1 = G1S_df[:,1]  \n",
    "  half_max_Cdh1 = max_Cdh1[1]*0.5\n",
    "  G1S=findfirst(x->x<half_max_Cdh1,col_Cdh1)\n",
    "  G1S_t = convert(Int64, round(time_stamp_SS[G1S+submax_Cdh1],digits=0))\n",
    "  G1S_t = G1S_t - SS_zero\n",
    "    \n",
    "  ## S/G2\n",
    "  G1St = SS_zero+G1S_t\n",
    "  G1St_TS = findfirst(x->x>G1St, time_stamp_SS)\n",
    "  # get max value of cycA\n",
    "  colcycA = sol_SS_cc[:,2]\n",
    "  max_cycA = findmax(colcycA[G1St_TS:end])\n",
    "  # get time when cycA is max - 2.5%\n",
    "  submaxA = (max_cycA[1]/100)*97.5\n",
    "  submaxA = findfirst(x->x>submaxA,colcycA)\n",
    "  SG2_t = convert(Int64, round(time_stamp_SS[submaxA],digits=0))\n",
    "  SG2_t = SG2_t - SS_zero\n",
    "\n",
    "  ## G2/M\n",
    "  SG2t = SS_zero+SG2_t\n",
    "  SG2t_TS = findfirst(x->x>SG2t, time_stamp_SS)\n",
    "  col_cycB = sol_SS_cc[:,3]\n",
    "  max_cycB = findmax(col_cycB[SG2t_TS:end])\n",
    "  #submaxB = (max_cycB[1]/100)*97.5\n",
    "  max_cycB = findfirst(x->x==max_cycB[1],col_cycB)\n",
    "  G2M_time = convert(Int64, round(time_stamp_SS[max_cycB],digits=0))\n",
    "  G2M_t = G2M_time - SS_zero\n",
    "\n",
    "  ## M\n",
    "  M_t = convert(Int64, round(time_stamp[SS_end],digits=0)) - SS_zero\n",
    "\n",
    "  return(G1S_t,SG2_t,G2M_t,M_t)\n",
    "\n",
    "end"
   ]
  },
  {
   "cell_type": "markdown",
   "id": "13f70d6c",
   "metadata": {},
   "source": [
    "### Here we import csv files containing all the information required to build a model file of \n",
    "### ordinary differential equations"
   ]
  },
  {
   "cell_type": "code",
   "execution_count": 27,
   "id": "7fdd58ae",
   "metadata": {
    "scrolled": true
   },
   "outputs": [
    {
     "data": {
      "text/plain": [
       "\"moduleDefinitionFiles/cellCycle/rateLaws_plus_myc2.csv\""
      ]
     },
     "execution_count": 27,
     "metadata": {},
     "output_type": "execute_result"
    }
   ],
   "source": [
    "### Files\n",
    "reactionsFile=\"moduleDefinitionFiles/cellCycle/reactions_plus_myc2.csv\"\n",
    "parametersFile=\"moduleDefinitionFiles/cellCycle/parameters_plus_myc.csv\"\n",
    "rateLawsFile=\"moduleDefinitionFiles/cellCycle/rateLaws_plus_myc2.csv\"\n",
    "arguments=[reactionsFile, parametersFile, rateLawsFile, \"odeCellCycle.jl\", \"scan\"]\n",
    "locationOfCSV2Julia=\"CSV2JuliaDiffEq/csv2model.py\"\n",
    "cmd=`python3 $locationOfCSV2Julia $arguments`\n",
    "run(cmd)"
   ]
  },
  {
   "cell_type": "code",
   "execution_count": 31,
   "id": "e8823a04",
   "metadata": {},
   "outputs": [
    {
     "data": {
      "text/plain": [
       "\"modelFiles/cellCycle/variableNamesCellCycle.jl\""
      ]
     },
     "execution_count": 31,
     "metadata": {},
     "output_type": "execute_result"
    }
   ],
   "source": [
    "mkpath(\"modelFiles/cellCycle/\")\n",
    "mv(\"odeCellCycle.jl\",\"modelFiles/cellCycle/odeCellCycle.jl\", force=true)\n",
    "mv(\"variableNames.jl\",\"modelFiles/cellCycle/variableNamesCellCycle.jl\", force=true)\n",
    "include(\"modelFiles/cellCycle/odeCellCycle.jl\")\n",
    "include(\"modelFiles/cellCycle/variableNamesCellCycle.jl\")\n",
    "include(\"scanIncludes.jl\")\n",
    "locationOfVariableNames=\"modelFiles/cellCycle/variableNamesCellCycle.jl\""
   ]
  },
  {
   "cell_type": "markdown",
   "id": "d93ba18a",
   "metadata": {},
   "source": [
    "## Set initial conditions"
   ]
  },
  {
   "cell_type": "code",
   "execution_count": 34,
   "id": "4b8df730",
   "metadata": {
    "scrolled": true
   },
   "outputs": [
    {
     "data": {
      "text/plain": [
       "27-element Vector{Float64}:\n",
       "  0.0121809\n",
       "  0.0356927\n",
       "  0.00922806\n",
       "  0.00220177\n",
       "  0.000542587\n",
       "  0.0229112\n",
       "  1.4094\n",
       "  2.72898\n",
       "  0.010976\n",
       "  0.43929\n",
       "  0.000653278\n",
       "  0.900533\n",
       "  1.0\n",
       "  ⋮\n",
       "  0.00478911\n",
       "  0.989986\n",
       "  9.97574\n",
       "  0.0192822\n",
       "  3.98594\n",
       "  1.35565\n",
       "  1.0\n",
       " 40.0\n",
       "  1.0\n",
       "  1.0\n",
       "  0.0\n",
       " 40.0"
      ]
     },
     "execution_count": 34,
     "metadata": {},
     "output_type": "execute_result"
    }
   ],
   "source": [
    "#initial conditions:\n",
    "#\"ERG\",\"p27_cycA_Cdk2\",\"p27\",\"Cdc20\",\"p27_cycE_Cdk2\",\"cycE\",\"cycA\",\n",
    "#\"cycB\",\"p27_cycD_Cdk2\",\"cycD\",\"Cdh1\",\"DRG\",\"PPX\",\"IEP\",\"Cdc20t\",\"E2F_Rb\",\n",
    "#\"E2F\",\"HypoP_Rb\",\"pE2F_Rb\",\"pE2F\",\"GM\",\"r31switch\",\"cMyc\",\"Mass\",\"newSwitch\",\"Rb\",\"cMyct\",]\n",
    "inits=[0.0121809,0.0356927,0.00922806,0.00220177,0.000542587,0.0229112, 1.4094,\n",
    "      2.72898,0.010976,0.43929,0.000653278,0.900533,1.0,0.154655,2.36733,0.00478911,\n",
    "      0.989986,9.97574,0.0192822,3.98594,1.35565,1,40,1,1,0,40]"
   ]
  },
  {
   "cell_type": "code",
   "execution_count": 35,
   "id": "49cad869",
   "metadata": {
    "scrolled": true
   },
   "outputs": [
    {
     "data": {
      "text/plain": [
       "27-element Vector{Symbol}:\n",
       " :ERG\n",
       " :p27_cycA_Cdk2\n",
       " :p27\n",
       " :Cdc20\n",
       " :p27_cycE_Cdk2\n",
       " :cycE\n",
       " :cycA\n",
       " :cycB\n",
       " :p27_cycD_Cdk2\n",
       " :cycD\n",
       " :Cdh1\n",
       " :DRG\n",
       " :PPX\n",
       " ⋮\n",
       " :E2F_Rb\n",
       " :E2F\n",
       " :HypoP_Rb\n",
       " :pE2F_Rb\n",
       " :pE2F\n",
       " :GM\n",
       " :r31switch\n",
       " :cMyc\n",
       " :Mass\n",
       " :newSwitch\n",
       " :Rb\n",
       " :cMyct"
      ]
     },
     "execution_count": 35,
     "metadata": {},
     "output_type": "execute_result"
    }
   ],
   "source": [
    "syms=Symbol.(syms)"
   ]
  },
  {
   "cell_type": "code",
   "execution_count": 36,
   "id": "b3a16e98",
   "metadata": {},
   "outputs": [
    {
     "data": {
      "text/plain": [
       "1"
      ]
     },
     "execution_count": 36,
     "metadata": {},
     "output_type": "execute_result"
    }
   ],
   "source": [
    "### Define the problem\n",
    "p=1\n",
    "h(p,t)=inits\n",
    "params=1\n",
    "\n",
    "f=ODEFunction(odeFile,syms=syms)\n",
    "prob=ODEProblem(f,inits,(0.0,10000*60))"
   ]
  },
  {
   "cell_type": "code",
   "execution_count": 38,
   "id": "68fef714",
   "metadata": {
    "scrolled": true
   },
   "outputs": [
    {
     "data": {
      "text/plain": [
       "4-element Vector{String}:\n",
       " \"G1S\"\n",
       " \"SG2\"\n",
       " \"G2M\"\n",
       " \"M\""
      ]
     },
     "execution_count": 38,
     "metadata": {},
     "output_type": "execute_result"
    }
   ],
   "source": [
    "global colnames=[\"G1S\", \"SG2\", \"G2M\", \"M\"]"
   ]
  },
  {
   "cell_type": "code",
   "execution_count": 39,
   "id": "ee9d37ad",
   "metadata": {},
   "outputs": [],
   "source": [
    "using JLD2, FileIO"
   ]
  },
  {
   "cell_type": "markdown",
   "id": "5853ed32",
   "metadata": {},
   "source": [
    "\n",
    "### here we will solve the model until we find a steady state, at which point we will calculate the timing of transitions between cell cycle checkpoints"
   ]
  },
  {
   "cell_type": "code",
   "execution_count": null,
   "id": "d93e0413",
   "metadata": {},
   "outputs": [],
   "source": [
    "paramNames = Dict(\"k1_16\" => \"ERG_deg\", \"k1_30\" => \"CycA_deg\", \"k1_25R\" => \"p27_cycE_Cdk2_deg\", \"k2_5\" => \"p27_exp\", \"k1_18\" => \"DRG_deg\", \"k1_12\" => \"Cdc20t_deg\",\n",
    "\"k1_13\" => \"Cdc20_exp1\", \"k2_j13\" => \"Cdc20_exp2\", \"k1_14\" => \"Cdc20_deg1\", \"k2_j14\" => \"Cdc20_deg2\",\n",
    "\"k1_10\" => \"p27_cycD_Cdk2_deg\", \"k2_mu\" => \"mass_gain\", \"k2_15\" => \"ERG_exp2\", \"k3_j15\" => \"ERG_exp3\", \"k2_11a\" => \"Cdc20t_exp2\", \"k3_11\" => \"Cdc20t_exp3\", \"k2_29\" => \"cycA_exp\",\n",
    "\"k1_3a\" => \"Cdh1_exp1\", \"k2_3\" => \"Cdh1_exp2\", \"k3_J3\" => \"Cdh1_exp3\", \"k2_1a\" => \"cycB_exp2\", \"k3_1\" => \"cycB_exp3\", \"k4_j1\" => \"cycB_exp4\",\n",
    "\"k1_23a\" => \"E2F_phos1\", \"K2_3a\" => \"E2F_phos2\",\n",
    "\"k2_17\" => \"DRG_exp2\", \"k3_j17\" => \"DRG_exp3\", \"k4_17a\" => \"DRG_exp4\", \"k1_j4\" => \"Cdh1_deg1\", \"k2_4\" => \"Cdh1_deg2\", \"k3_ga\" => \"Cdh1_deg3\", \"k4_gb\" => \"Cdh1_deg4\", \"k5_ge\" => \"Cdh1_deg5\",\n",
    "\"k2_1a\" => \"cycB_exp2\", \"k3_1\" => \"cycB_exp3\", \"k4_j1\" => \"cycB_exp4\", \"k2_7a\" => \"cycE_exp2\", \"k3_7\" => \"cycE_exp3\", \"k1_31\" => \"IEP_exp1\", \"k2_j31\" => \"IEP_exp2\",\n",
    "\"k1_8a\" => \"p27.cycE.Cdk2_degp27_1\", \"k2_8\" => \"p27.cycE.Cdk2_degp27_2\", \"k3_yb\" => \"p27.cycE.Cdk2_degp27_3\", \"k4_ye\" => \"p27.cycE.Cdk2_degp27_4\", \"k5_j8\" => \"p27.cycE.Cdk2_degp27_5\",\n",
    "\"k1_22\" => \"pE2F_Rb_dephos\", \"k1_34\" => \"PPX_deg\",\n",
    "\"k1_25\" => \"cycAp27_bind_Cdk2\", \"k1_26\" => \"E2F_bind_Rb\", \"k2_23\" => \"E2F_phos2\", \"k3_2\" => \"cycB_deg3\", \"k2_2a\" => \"cycB_deg2\", \"k1_J4\" => \"Cdh1_deg\",\n",
    "\"k1_24r\" => \"p27_cycD_Cdk2_deg\",\n",
    "\"k2_9\" => \"cycD_exp\", \"k2_19a\" => \"Rb_phos2\", \"k4_21\" => \"Rb_phos4\", \"k5_fb\" => \"Rb_phos5\", \"k6_fe\" => \"Rb_phos6\",\n",
    "\"k1_6a\" => \"p27.cycE/D/A.Cdk2_deg1\", \"k2_6\" => \"p27.cycE/D/A.Cdk2_deg2\", \"k3_ha\" => \"p27.cycE/D/A.Cdk2_deg3\", \"k4_hb\" => \"p27.cycE/D/A.Cdk2_deg4\", \"k5_he\" => \"p27.cycE/D/A.Cdk2_deg5\",\n",
    "\"k1_20\" => \"E2F_Rb_diss1\", \"k2_la\" => \"E2F_Rb_diss2\", \"k3_lb\" => \"E2F_Rb_diss3\", \"k4_ld\" => \"E2F_Rb_diss4\", \"k5_le\" => \"E2F_Rb_diss5\",\n",
    "\"k1_24\" => \"p27.cycD_binds_Cdk2\", \"k1_2aa\" => \"cycB_exp1b\", \"k2_j32\" => \"IEP_deg2\", \"k1_26r\" => \"pE2F_Rb_prod\",\n",
    "\"k1_28\" => \"GM_prod\", \"k1_19\" => \"Rb_phos1\", \"k3_pp1t\" => \"Rb_phos3\")"
   ]
  },
  {
   "cell_type": "markdown",
   "id": "9588b93a",
   "metadata": {},
   "source": [
    "## Now we're going to run the model\n",
    "### this will take a few minutes"
   ]
  },
  {
   "cell_type": "code",
   "execution_count": 33,
   "id": "8db933e6",
   "metadata": {
    "scrolled": true
   },
   "outputs": [
    {
     "name": "stdout",
     "output_type": "stream",
     "text": [
      "new switch 1 during division\n",
      "division event\n",
      "new switch 1 during division\n",
      "division event\n",
      "new switch 1 during division\n",
      "division event\n",
      "new switch 1 during division\n",
      "division event\n",
      "new switch 1 during division\n",
      "division event\n",
      "new switch 1 during division\n",
      "division event\n",
      "new switch 1 during division\n",
      "division event\n",
      "new switch 1 during division\n",
      "division event\n",
      "new switch 1 during division\n",
      "division event\n",
      "new switch 1 during division\n",
      "division event\n",
      "new switch 1 during division\n",
      "division event\n",
      "new switch 1 during division\n",
      "division event\n",
      "new switch 1 during division\n",
      "division event\n",
      "new switch 1 during division\n",
      "division event\n",
      "new switch 1 during division\n",
      "division event\n",
      "new switch 1 during division\n",
      "division event\n",
      "new switch 1 during division\n",
      "division event\n",
      "new switch 1 during division\n",
      "division event\n",
      "new switch 1 during division\n",
      "division event\n",
      "new switch 1 during division\n",
      "division event\n",
      "175.584979 seconds (267.63 M allocations: 5.637 GiB, 1.03% gc time)\n",
      "elapsed time (ns): 175584978817\n",
      "gc time (ns):      1814041538\n",
      "bytes allocated:   6053158448\n",
      "pool allocs:       267630040\n",
      "non-pool GC allocs:26\n",
      "GC pauses:         35\n"
     ]
    },
    {
     "data": {
      "text/plain": [
       "\"outputFiles/cellCycle/WT/plot_times_WT.csv\""
      ]
     },
     "execution_count": 33,
     "metadata": {},
     "output_type": "execute_result"
    }
   ],
   "source": [
    "## create empty arrays that we can append to so we can keep track of the value of the mass of the cell\n",
    "## and the time when it peaks (just before mitosis) \n",
    "global mass_array=[]\n",
    "global mass_peak_time=[]\n",
    "\n",
    "## select a parameter to modify and a copy number for modification\n",
    "modify[**insert parameter here***] = *add copy number* \n",
    "\n",
    "## solve the model\n",
    "@timev sol = solve(prob,callback=cbs) \n",
    "\n",
    "save(\"outputFiles/cellCycle/WT/sol_WT.jld2\", \"solution\", sol)\n",
    "### get steady state - steady state = time between peak mass values plus division (when mass drops to zero)\n",
    "sol_df = DataFrame(sol', syms)\n",
    "global time_stamp = sol.t\n",
    "sol_df[!, :time_stamp] = time_stamp\n",
    "SS = last(mass_peak_time, 3)\n",
    "SS_start=findfirst(x->x>SS[1],time_stamp)\n",
    "global SS_end=findfirst(x->x>SS[2],time_stamp)\n",
    "SS_nrow = nrow(sol_df) - SS_start\n",
    "global sol_SS = last(sol_df, SS_nrow)\n",
    "\n",
    "# find mass zero\n",
    "Mass_col = columnindex(sol_SS, :Mass)\n",
    "mass_min = findmin(sol_SS[:, Mass_col])\n",
    "\n",
    "# SS = mass peak 4 to 5\n",
    "global sol_SS = first(sol_SS, mass_min[2])          \n",
    "\n",
    "# get time stamp\n",
    "global time_stamp_SS = sol_SS[:, 28]\n",
    "writedlm(\"outputFiles/cellCycle/WT/time_stamp_SS_WT.csv\", time_stamp_SS, ',')\n",
    "\n",
    "### Calculate times for cell cycle transitions\n",
    "global plot_times = DataFrame(Array(collect(Get_CC_transitions(sol_SS))'), colnames)\n",
    "CSV.write(\"outputFiles/cellCycle/WT/plot_times_WT.csv\", plot_times)   "
   ]
  },
  {
   "cell_type": "markdown",
   "id": "1797c64e",
   "metadata": {},
   "source": [
    "## Plotting"
   ]
  },
  {
   "cell_type": "code",
   "execution_count": 34,
   "id": "7b7f7384",
   "metadata": {},
   "outputs": [
    {
     "data": {
      "text/plain": [
       "Plot_CC_PS_WT (generic function with 1 method)"
      ]
     },
     "execution_count": 34,
     "metadata": {},
     "output_type": "execute_result"
    }
   ],
   "source": [
    "function Plot_CC_PS(mod, key, t, y=5)\n",
    "    ## load solution\n",
    "    sol = load(\"outputFiles/cellCycle/Param_scan/PS_\"*date*\"/PS\"*string(mod)*\"/solutions/sol_\"*key*\".jld2\", \"solution\")\n",
    "    \n",
    "    ## load time stamp\n",
    "    time_stamp = DataFrame(CSV.File(\"outputFiles/cellCycle/Param_scan/PS_\"*date*\"/PS\"*string(mod)*\"/time_stamps/time_stamp_SS_\"*key*\".csv\", header=false)) \n",
    "    rename!(time_stamp, :Column1 => :time)\n",
    "    \n",
    "    ## transition times\n",
    "    plot_times = DataFrame(CSV.File(\"outputFiles/cellCycle/Param_scan/PS_\"*date*\"/PS\"*string(mod)*\"/plot_times/plot_times_\"*key*\".csv\", header=true))\n",
    "    \n",
    "    G1_S = trunc(Int, (plot_times[1,1]+time_stamp[1,1]))\n",
    "    S_G2 = trunc(Int, (plot_times[1,2]+time_stamp[1,1]))\n",
    "    G2_M = trunc(Int, (plot_times[1,3]+time_stamp[1,1]))\n",
    "    M = trunc(Int, (plot_times[1,4]+time_stamp[1,1]))\n",
    "    \n",
    "    G1S = string(plot_times[1,1])\n",
    "    SG2 = string(plot_times[1,2])\n",
    "    G2M = string(plot_times[1,3])\n",
    "    M_ = string(plot_times[1,4])\n",
    "    \n",
    "    ## select steady state\n",
    "    start=findfirst(x->x==time_stamp[1,1], sol.t)\n",
    "    #println(start)\n",
    "    finish=findfirst(x->x==time_stamp[nrow(time_stamp),1], sol.t)+10\n",
    "    #println(finish)\n",
    "    sol_SS=sol[start:finish]\n",
    "    \n",
    "#     if M > 2400 \n",
    "#         intervals=string.(0:5:40)\n",
    "#         xhours=300\n",
    "#     else intervals=string.(0:1:20)\n",
    "#         xhours=60\n",
    "#     end\n",
    "    \n",
    "    #plot\n",
    "    plot(sol, vars=[indexCdh1,indexcycE,indexcycA,indexcycB,indexIEP],\n",
    "          lc=[:green :yellow :purple :red :blue :orange],\n",
    "          lw=2.5,\n",
    "          xlabel=\"time (hours)\",\n",
    "          xlims=(time_stamp[1,1], time_stamp[nrow(time_stamp),1]+10),\n",
    "          xticks=(sol.t[start]:120:sol.t[finish], string.(0:2:45)),\n",
    "          legend= :outertopright,\n",
    "          ylims=(0,y),\n",
    "          title = paramNames[key]*\" \"*mod,\n",
    "          fmt = :png)    \n",
    "    vline!([G1_S], color=:black, linestyle=:dash, lw=1, label=\"G1/S \"*G1S*\" mins\")\n",
    "    vline!([S_G2], color=:black, linestyle=:dash, lw=1.5, label=\"S/G2 \"*SG2*\" mins\")\n",
    "    vline!([G2_M], color=:black, linestyle=:dash, lw=2, label=\"G2/M \"*G2M*\" mins\")\n",
    "    vline!([M], color=:black, linestyle=:dash, lw=2.5, label=\"M \"*M_*\" mins\")\n",
    "    \n",
    "end"
   ]
  },
  {
   "cell_type": "code",
   "execution_count": 47,
   "id": "dcedbf28",
   "metadata": {},
   "outputs": [
    {
     "data": {
      "image/png": "[encoded data removed]"
     },
     "execution_count": 47,
     "metadata": {},
     "output_type": "execute_result"
    }
   ],
   "source": [
    "function Plot_CC_PS_WT(sol)\n",
    "    ## load solution\n",
    "    sol = load(\"outputFiles/cellCycle/WT/sol_WT.jld2\", \"solution\")\n",
    "    \n",
    "    ## load time stamp\n",
    "    time_stamp = DataFrame(CSV.File(\"outputFiles/cellCycle/WT/time_stamp_SS_WT.csv\", header=false)) \n",
    "    \n",
    "    rename!(time_stamp, :Column1 => :time)\n",
    "    \n",
    "    ## transition times\n",
    "    plot_times = DataFrame(CSV.File(\"outputFiles/cellCycle/WT/plot_times_WT.csv\", header=true))\n",
    "    \n",
    "    G1_S = trunc(Int, (plot_times[1,1]+time_stamp[1,1]))\n",
    "    S_G2 = trunc(Int, (plot_times[1,2]+time_stamp[1,1]))\n",
    "    G2_M = trunc(Int, (plot_times[1,3]+time_stamp[1,1]))\n",
    "    M = trunc(Int, (plot_times[1,4]+time_stamp[1,1]))\n",
    "    \n",
    "    G1S = string(plot_times[1,1])\n",
    "    SG2 = string(plot_times[1,2])\n",
    "    G2M = string(plot_times[1,3])\n",
    "    M_ = string(plot_times[1,4])\n",
    "    \n",
    "    ## select steady state\n",
    "    start=findfirst(x->x==time_stamp[1,1], sol.t)\n",
    "    #println(start)\n",
    "    finish=findfirst(x->x==time_stamp[nrow(time_stamp),1], sol.t)+10\n",
    "    #println(finish)\n",
    "    sol_SS=sol[start:finish]\n",
    "    \n",
    "#     if M > 2400 \n",
    "#         intervals=string.(0:5:40)\n",
    "#         xhours=300\n",
    "#     else intervals=string.(0:1:20)\n",
    "#         xhours=60\n",
    "#     end\n",
    "    \n",
    "    #plot\n",
    "    plot(sol, vars=[indexCdh1,indexcycE,indexcycA,indexcycB,indexIEP],\n",
    "          lc=[:green :yellow :purple :red :blue :orange],\n",
    "          lw=2.5,\n",
    "          xlabel=\"time (hours)\",\n",
    "          xlims=(time_stamp[1,1], time_stamp[nrow(time_stamp),1]+10),\n",
    "          xticks=(sol.t[start]:120:sol.t[finish], string.(0:2:45)),\n",
    "          legend= :outertopright,\n",
    "          ylims=(0,4),\n",
    "          title = \"Cell cycle wild type steady state\",\n",
    "          fmt = :png)    \n",
    "    vline!([G1_S], color=:black, linestyle=:dash, lw=1, label=\"G1/S \"*G1S*\" mins\")\n",
    "    vline!([S_G2], color=:black, linestyle=:dash, lw=1.5, label=\"S/G2 \"*SG2*\" mins\")\n",
    "    vline!([G2_M], color=:black, linestyle=:dash, lw=2, label=\"G2/M \"*G2M*\" mins\")\n",
    "    vline!([M], color=:black, linestyle=:dash, lw=2.5, label=\"M \"*M_*\" mins\")\n",
    "    \n",
    "end"
   ]
  },
  {
   "cell_type": "markdown",
   "id": "617ecd87",
   "metadata": {},
   "source": [
    "## optional - if you wish to simulate different mutations of the same gene"
   ]
  },
  {
   "cell_type": "code",
   "execution_count": 4,
   "id": "92fa7306",
   "metadata": {
    "scrolled": true
   },
   "outputs": [
    {
     "data": {
      "text/plain": [
       "7-element Vector{Float64}:\n",
       "   1.0\n",
       "   1.5\n",
       "   2.0\n",
       "   5.0\n",
       "  10.0\n",
       "  50.0\n",
       " 100.0"
      ]
     },
     "execution_count": 4,
     "metadata": {},
     "output_type": "execute_result"
    }
   ],
   "source": [
    "mut=[1,1.5,2,5]"
   ]
  },
  {
   "cell_type": "code",
   "execution_count": null,
   "id": "9c62021d",
   "metadata": {
    "scrolled": true
   },
   "outputs": [],
   "source": [
    "#### run my mutation simulation\n",
    "\n",
    "for (i) in mut\n",
    "    \n",
    "    run(cmd)\n",
    "    \n",
    "    mkpath(\"modelFiles/cellCycle/\")\n",
    "    mv(\"odeCellCycle.jl\",\"modelFiles/cellCycle/odeCellCycle.jl\", force=true)\n",
    "    mv(\"variableNames.jl\",\"modelFiles/cellCycle/variableNamesCellCycle.jl\", force=true)\n",
    "    \n",
    "    include(\"modelFiles/cellCycle/odeCellCycle.jl\")\n",
    "    include(\"modelFiles/cellCycle/variableNamesCellCycle.jl\")\n",
    "    include(\"scanIncludes.jl\")\n",
    "    \n",
    "    println(\"Solving for \" ,i, \"...\")  \n",
    "    \n",
    "    modify[\"k1_myc\"] = i\n",
    "    \n",
    "    global mass_array=[]\n",
    "    global mass_peak_time=[]\n",
    "            \n",
    "    ### Solve\n",
    "    @timev sol = solve(prob,callback=cbs) \n",
    "            if length(mass_peak_time) <5\n",
    "                continue\n",
    "            else\n",
    "    save(\"outputFiles/cellCycle/myc_mut/solutions/sol_\"*string(i)*\".jld2\", \"solution\", sol)\n",
    "    ### get steady state - steady state = time between peak mass values plus division (when mass drops to zero)\n",
    "    sol_df = DataFrame(sol', syms)\n",
    "    global time_stamp = sol.t\n",
    "    sol_df[!, :time_stamp] = time_stamp\n",
    "    SS = last(mass_peak_time, 3)\n",
    "    SS_start=findfirst(x->x>SS[1],time_stamp)\n",
    "    global SS_end=findfirst(x->x>SS[2],time_stamp)\n",
    "    SS_nrow = nrow(sol_df) - SS_start\n",
    "    global sol_SS = last(sol_df, SS_nrow)\n",
    "            \n",
    "    # find mass zero\n",
    "    Mass_col = columnindex(sol_SS, :Mass)\n",
    "    mass_min = findmin(sol_SS[:, Mass_col])\n",
    "        \n",
    "    # SS = mass peak 4 to 5\n",
    "    global sol_SS = first(sol_SS, mass_min[2])          \n",
    "      \n",
    "    # get time stamp\n",
    "    global time_stamp_SS = sol_SS[:, 28]\n",
    "    writedlm(\"outputFiles/cellCycle/myc_mut/time_stamps/time_stamp_SS_\"*string(i)*\".csv\", time_stamp_SS, ',')\n",
    "        \n",
    "    ### Calculate times for cell cycle transitions\n",
    "    global plot_times = DataFrame(Array(collect(Get_CC_transitions(sol_SS))'), colnames)\n",
    "    CSV.write(\"outputFiles/cellCycle/myc_mut/plot_times/plot_times_\"*string(i)*\".csv\", plot_times)    \n",
    "            end\n",
    "        \n",
    "    flush(stdout)\n",
    "end"
   ]
  },
  {
   "cell_type": "code",
   "execution_count": 2,
   "id": "cb8d5eef",
   "metadata": {},
   "outputs": [
    {
     "data": {
      "text/html": [
       "<div class=\"data-frame\"><p>0 rows × 5 columns</p><table class=\"data-frame\"><thead><tr><th></th><th>G1S</th><th>SG2</th><th>G2M</th><th>M</th><th>k1_myc</th></tr><tr><th></th><th title=\"Int64\">Int64</th><th title=\"Int64\">Int64</th><th title=\"Int64\">Int64</th><th title=\"Int64\">Int64</th><th title=\"Float64\">Float64</th></tr></thead><tbody></tbody></table></div>"
      ],
      "text/latex": [
       "\\begin{tabular}{r|ccccc}\n",
       "\t& G1S & SG2 & G2M & M & k1\\_myc\\\\\n",
       "\t\\hline\n",
       "\t& Int64 & Int64 & Int64 & Int64 & Float64\\\\\n",
       "\t\\hline\n",
       "\\end{tabular}\n"
      ],
      "text/plain": [
       "\u001b[1m0×5 DataFrame\u001b[0m"
      ]
     },
     "execution_count": 2,
     "metadata": {},
     "output_type": "execute_result"
    }
   ],
   "source": [
    "## create empty DataFrame for results\n",
    "plot_times_df_myc = DataFrame(G1S=Int64[], SG2=Int64[], G2M=Int64[], M=Int64[], k1_myc=Float64[])"
   ]
  },
  {
   "cell_type": "code",
   "execution_count": 5,
   "id": "7ee5a6ef",
   "metadata": {},
   "outputs": [],
   "source": [
    "## find results and add to dataframe\n",
    "\n",
    "for i in mut\n",
    "    \n",
    "plot_times = DataFrame(CSV.File(\"outputFiles/cellCycle/myc_mut/plot_times/plot_times_\"*string(i)*\".csv\", header=true))\n",
    "    \n",
    "plot_times[!, :k1_myc] = [i]\n",
    "    \n",
    "append!(plot_times_df_myc, plot_times)\n",
    "        \n",
    "end"
   ]
  },
  {
   "cell_type": "code",
   "execution_count": 6,
   "id": "5e2fe1ad",
   "metadata": {},
   "outputs": [
    {
     "data": {
      "text/html": [
       "<div class=\"data-frame\"><p>7 rows × 5 columns</p><table class=\"data-frame\"><thead><tr><th></th><th>G1S</th><th>SG2</th><th>G2M</th><th>M</th><th>k1_myc</th></tr><tr><th></th><th title=\"Int64\">Int64</th><th title=\"Int64\">Int64</th><th title=\"Int64\">Int64</th><th title=\"Int64\">Int64</th><th title=\"Float64\">Float64</th></tr></thead><tbody><tr><th>1</th><td>309</td><td>592</td><td>688</td><td>730</td><td>1.0</td></tr><tr><th>2</th><td>299</td><td>585</td><td>680</td><td>722</td><td>1.5</td></tr><tr><th>3</th><td>297</td><td>583</td><td>678</td><td>719</td><td>2.0</td></tr><tr><th>4</th><td>294</td><td>573</td><td>672</td><td>715</td><td>5.0</td></tr><tr><th>5</th><td>294</td><td>573</td><td>672</td><td>715</td><td>10.0</td></tr><tr><th>6</th><td>295</td><td>576</td><td>673</td><td>715</td><td>50.0</td></tr><tr><th>7</th><td>295</td><td>576</td><td>673</td><td>715</td><td>100.0</td></tr></tbody></table></div>"
      ],
      "text/latex": [
       "\\begin{tabular}{r|ccccc}\n",
       "\t& G1S & SG2 & G2M & M & k1\\_myc\\\\\n",
       "\t\\hline\n",
       "\t& Int64 & Int64 & Int64 & Int64 & Float64\\\\\n",
       "\t\\hline\n",
       "\t1 & 309 & 592 & 688 & 730 & 1.0 \\\\\n",
       "\t2 & 299 & 585 & 680 & 722 & 1.5 \\\\\n",
       "\t3 & 297 & 583 & 678 & 719 & 2.0 \\\\\n",
       "\t4 & 294 & 573 & 672 & 715 & 5.0 \\\\\n",
       "\t5 & 294 & 573 & 672 & 715 & 10.0 \\\\\n",
       "\t6 & 295 & 576 & 673 & 715 & 50.0 \\\\\n",
       "\t7 & 295 & 576 & 673 & 715 & 100.0 \\\\\n",
       "\\end{tabular}\n"
      ],
      "text/plain": [
       "\u001b[1m7×5 DataFrame\u001b[0m\n",
       "\u001b[1m Row \u001b[0m│\u001b[1m G1S   \u001b[0m\u001b[1m SG2   \u001b[0m\u001b[1m G2M   \u001b[0m\u001b[1m M     \u001b[0m\u001b[1m k1_myc  \u001b[0m\n",
       "\u001b[1m     \u001b[0m│\u001b[90m Int64 \u001b[0m\u001b[90m Int64 \u001b[0m\u001b[90m Int64 \u001b[0m\u001b[90m Int64 \u001b[0m\u001b[90m Float64 \u001b[0m\n",
       "─────┼─────────────────────────────────────\n",
       "   1 │   309    592    688    730      1.0\n",
       "   2 │   299    585    680    722      1.5\n",
       "   3 │   297    583    678    719      2.0\n",
       "   4 │   294    573    672    715      5.0\n",
       "   5 │   294    573    672    715     10.0\n",
       "   6 │   295    576    673    715     50.0\n",
       "   7 │   295    576    673    715    100.0"
      ]
     },
     "execution_count": 6,
     "metadata": {},
     "output_type": "execute_result"
    }
   ],
   "source": [
    "plot_times_df_myc"
   ]
  },
  {
   "cell_type": "code",
   "execution_count": 7,
   "id": "db6e5adc",
   "metadata": {},
   "outputs": [
    {
     "data": {
      "text/plain": [
       "res_mod (generic function with 1 method)"
      ]
     },
     "execution_count": 7,
     "metadata": {},
     "output_type": "execute_result"
    }
   ],
   "source": [
    "# get length of each part of the cell cycle from the end times\n",
    "function res_mod(df)\n",
    "      for i in 1:nrow(df)\n",
    "            df[i,4]=df[i,4] - df[i,3]\n",
    "            df[i,3]=df[i,3] - df[i,2]\n",
    "            df[i,2]=df[i,2] - df[i,1]\n",
    "      end\n",
    "      return(df)\n",
    "end"
   ]
  },
  {
   "cell_type": "code",
   "execution_count": null,
   "id": "63d30855",
   "metadata": {},
   "outputs": [],
   "source": [
    "function HistoPlot(plot_times)\n",
    "    \n",
    "    CC_res = deepcopy(plot_times[!, 1:4])\n",
    "    \n",
    "    CC_res = Matrix(res_mod(CC_res))\n",
    "    \n",
    "    G1 = CC_res[:,1]\n",
    "    S = CC_res[:,2]\n",
    "    G2 = CC_res[:,3]\n",
    "    M = CC_res[:,4]\n",
    "    \n",
    "    plot_names = plot_times[!, :param]\n",
    "    \n",
    "    StatsPlots.groupedbar(plot_names, [M G2 S G1],\n",
    "            bar_position = :stack,\n",
    "            bar_width=0.8,\n",
    "            label=[\"M\" \"G2\" \"S\" \"G1\"],\n",
    "            #xlims=(0,2e3),\n",
    "            ytickfont=font(10),\n",
    "            orientation = :horizontal,\n",
    "            yticks=:all,\n",
    "            legend=:outertopright,\n",
    "            size=(1000,1200))\n",
    "    s=string.(collect(0:1:15))\n",
    "    plot!(xticks = (0:(60*1):(60*15),s),xlabel=\"time (hours)\",fmt = :png)\n",
    "    vline!([309], color=:black, linestyle=:dash, lw=2, label=\"G1/S WT 309 mins\")\n",
    "    vline!([592], color=:black, linestyle=:dash, lw=2, label=\"S/G2 WT 592 mins\")\n",
    "    vline!([668], color=:black, linestyle=:dash, lw=2, label=\"G2/M WT 668 mins\")\n",
    "    vline!([730], color=:black, linestyle=:dash, lw=2, label=\"M WT 730 mins\")\n",
    "    \n",
    "end"
   ]
  },
  {
   "cell_type": "code",
   "execution_count": 8,
   "id": "6a0def5b",
   "metadata": {},
   "outputs": [],
   "source": [
    "using StatsPlots"
   ]
  },
  {
   "cell_type": "code",
   "execution_count": 31,
   "id": "71cb6318",
   "metadata": {},
   "outputs": [
    {
     "data": {
      "text/plain": [
       "HistoPlotMyc (generic function with 1 method)"
      ]
     },
     "execution_count": 31,
     "metadata": {},
     "output_type": "execute_result"
    }
   ],
   "source": [
    "function HistoPlotMyc(plot_times)\n",
    "    \n",
    "    CC_res = deepcopy(plot_times[!, 1:4])\n",
    "    \n",
    "    CC_res = Matrix(res_mod(CC_res))\n",
    "    \n",
    "    G1 = CC_res[:,1]\n",
    "    S = CC_res[:,2]\n",
    "    G2 = CC_res[:,3]\n",
    "    M = CC_res[:,4]\n",
    "    \n",
    "    plot_names = [\"WT\", \"x1.5\", \"x2\", \"x5\", \"x10\", \"x50\", \"x100\"]\n",
    "    \n",
    "    StatsPlots.groupedbar(plot_names, [M G2 S G1],\n",
    "            bar_position = :stack,\n",
    "            bar_width=0.8,\n",
    "            #bar_spacing=0.5,\n",
    "            label=[\"M\" \"G2\" \"S\" \"G1\"],\n",
    "            xlims=(0,13*60),\n",
    "            xlabel=\"Myc copy number\",\n",
    "            ytickfont=font(12),\n",
    "            xtickfont=font(12),\n",
    "            xguidefontsize=font(12),\n",
    "            orientation = :horizontal,\n",
    "            #yticks=:all,\n",
    "            legend=:outertopright,\n",
    "            size=(1200,350)\n",
    "    )\n",
    "    s=string.(collect(0:1:13))\n",
    "    plot!(xticks = (0:(60*1):(60*13),s),xlabel=\"time (hours)\",fmt = :png)\n",
    "    vline!([309], color=:black, linestyle=:dash, lw=1, label=\"G1/S WT 309 mins\")\n",
    "    vline!([592], color=:black, linestyle=:dash, lw=2, label=\"S/G2 WT 592 mins\")\n",
    "    vline!([688], color=:black, linestyle=:dash, lw=3, label=\"G2/M WT 688 mins\")\n",
    "    vline!([730], color=:black, linestyle=:dash, lw=4, label=\"M WT 730 mins\")\n",
    "    \n",
    "end"
   ]
  },
  {
   "cell_type": "code",
   "execution_count": 32,
   "id": "65dfaa0b",
   "metadata": {
    "scrolled": false
   },
   "outputs": [
    {
     "data": {
      "image/png": "[encoded data removed]"
     },
     "execution_count": 32,
     "metadata": {},
     "output_type": "execute_result"
    }
   ],
   "source": [
    "HistoPlotMyc(plot_times_df_myc)"
   ]
  },
  {
   "cell_type": "code",
   "execution_count": 44,
   "id": "628a50ac",
   "metadata": {},
   "outputs": [
    {
     "data": {
      "text/plain": [
       "10"
      ]
     },
     "execution_count": 44,
     "metadata": {},
     "output_type": "execute_result"
    }
   ],
   "source": [
    "include(locationOfVariableNames)\n",
    "global indexCdh1=findfirst(x->\"Cdh1\"==x,syms)\n",
    "global indexMass=findfirst(x->\"Mass\"==x,syms)\n",
    "global indexcycE=findfirst(x->\"cycE\"==x,syms)\n",
    "global indexcycA=findfirst(x->\"cycA\"==x,syms)\n",
    "global indexcycB=findfirst(x->\"cycB\"==x,syms)\n",
    "global indexIEP=findfirst(x->\"IEP\"==x,syms)\n",
    "global indexnewSwitch=findfirst(x->\"newSwitch\"==x,syms)\n",
    "global indexmyc=findfirst(x->\"cMyc\"==x,syms)\n",
    "global indexmyct=findfirst(x->\"cMyct\"==x,syms)\n",
    "global indexp27=findfirst(x->\"p27_cycE_Cdk2\"==x,syms)\n",
    "global indexcycD=findfirst(x->\"cycD\"==x,syms)"
   ]
  },
  {
   "cell_type": "code",
   "execution_count": null,
   "id": "16f282c9",
   "metadata": {},
   "outputs": [],
   "source": [
    "function Plot_CC_myc(mod, t=0)\n",
    "    ## load solution\n",
    "    sol = load(\"outputFiles/cellCycle/myc_mut/solutions/sol_\"*string(mod)*\".jld2\", \"solution\")\n",
    "    \n",
    "    ## load time stamp\n",
    "    time_stamp = DataFrame(CSV.File(\"outputFiles/cellCycle/myc_mut/time_stamps/time_stamp_SS_\"*string(mod)*\".csv\", header=false)) \n",
    "    rename!(time_stamp, :Column1 => :time)\n",
    "    \n",
    "    ## transition times\n",
    "    plot_times = DataFrame(CSV.File(\"outputFiles/cellCycle/myc_mut/plot_times/plot_times_\"*string(mod)*\".csv\", header=true))\n",
    "    \n",
    "    G1_S = trunc(Int, (plot_times[1,1]+time_stamp[1,1]))\n",
    "    S_G2 = trunc(Int, (plot_times[1,2]+time_stamp[1,1]))\n",
    "    G2_M = trunc(Int, (plot_times[1,3]+time_stamp[1,1]))\n",
    "    M = trunc(Int, (plot_times[1,4]+time_stamp[1,1]))\n",
    "    \n",
    "    G1S = string(plot_times[1,1])\n",
    "    SG2 = string(plot_times[1,2])\n",
    "    G2M = string(plot_times[1,3])\n",
    "    M_ = string(plot_times[1,4])\n",
    "    \n",
    "    ## select steady state\n",
    "    start=findfirst(x->x==time_stamp[1,1], sol.t)\n",
    "    #println(start)\n",
    "    finish=findfirst(x->x==time_stamp[nrow(time_stamp),1], sol.t)+10\n",
    "    #println(finish)\n",
    "    \n",
    "    Plots.plot(sol, vars=[indexCdh1,indexMass,indexcycE,indexcycA,indexcycB,indexIEP],\n",
    "      lc=[:green :yellow :purple :red :blue :orange],\n",
    "      lw=2.5,\n",
    "      xlims=(time_stamp[1, :time] + t, time_stamp[nrow(time_stamp), :time] + 10),\n",
    "      xticks=(sol.t[start]:60:sol.t[finish]+10, string.(0:1:14)),\n",
    "      xlabel=\"time (hours)\",\n",
    "      legend= :outertopright,\n",
    "      ylims=(0,5),\n",
    "      title = \"k1_myc x\"*string(mod),\n",
    "      fmt = :png)\n",
    "    \n",
    "#     last_time = trunc(Int, time_stamp[nrow(time_stamp),1]/60)\n",
    "#     s=string.(collect(0:5:last_time))\n",
    "#     plot!(xticks = (0:(60*5):(60*last_time),s),xlabel=\"time (hours)\",fmt = :png)\n",
    "    \n",
    "    vline!([G1_S], color=:black, linestyle=:dash, lw=1, label=\"G1/S \"*G1S*\" mins\")\n",
    "    vline!([S_G2], color=:black, linestyle=:dash, lw=1.5, label=\"S/G2 \"*SG2*\" mins\")\n",
    "    vline!([G2_M], color=:black, linestyle=:dash, lw=2, label=\"G2/M \"*G2M*\" mins\")\n",
    "    vline!([M], color=:black, linestyle=:dash, lw=2.5, label=\"M \"*M_*\" mins\")\n",
    "end"
   ]
  },
  {
   "cell_type": "code",
   "execution_count": null,
   "id": "c29a8a47",
   "metadata": {},
   "outputs": [],
   "source": [
    "Plots.plot(sol, vars=[indexCdh1,indexMass,indexcycE,indexcycA,indexcycB,indexIEP],\n",
    "      lc=[:green :yellow :purple :red :blue :orange],\n",
    "      lw=2.5,\n",
    "      xlims=(time_stamp_SS[1], time_stamp_SS[length(time_stamp_SS)] + 10),\n",
    "      #legend=false,\n",
    "      legend= :outertopright,\n",
    "      ylims=(0,5),\n",
    "      title = \"k3_1 x\"*string(mod),\n",
    "      fmt = :png)"
   ]
  },
  {
   "cell_type": "code",
   "execution_count": null,
   "id": "56e3cd79",
   "metadata": {
    "scrolled": true
   },
   "outputs": [],
   "source": [
    "#### run mutation simulation for k2_5 \n",
    "\n",
    "for (i) in mut\n",
    "    \n",
    "    run(cmd)\n",
    "    \n",
    "    mkpath(\"modelFiles/cellCycle/\")\n",
    "    mv(\"odeCellCycle.jl\",\"modelFiles/cellCycle/odeCellCycle.jl\", force=true)\n",
    "    mv(\"variableNames.jl\",\"modelFiles/cellCycle/variableNamesCellCycle.jl\", force=true)\n",
    "    \n",
    "    include(\"modelFiles/cellCycle/odeCellCycle.jl\")\n",
    "    include(\"modelFiles/cellCycle/variableNamesCellCycle.jl\")\n",
    "    include(\"scanIncludes.jl\")\n",
    "    \n",
    "    println(\"Solving for \" ,i, \"...\")  \n",
    "    \n",
    "    modify[\"k2_5\"] = i\n",
    "    \n",
    "    global mass_array=[]\n",
    "    global mass_peak_time=[]\n",
    "            \n",
    "    ### Solve\n",
    "    @timev sol = solve(prob,callback=cbs) \n",
    "            if length(mass_peak_time) <5\n",
    "                continue\n",
    "            else\n",
    "    save(\"outputFiles/cellCycle/k2_5_mut/solutions/sol_\"*string(i)*\".jld2\", \"solution\", sol)\n",
    "    ### get steady state - steady state = time between peak mass values plus division (when mass drops to zero)\n",
    "    sol_df = DataFrame(sol', syms)\n",
    "    global time_stamp = sol.t\n",
    "    sol_df[!, :time_stamp] = time_stamp\n",
    "    SS = last(mass_peak_time, 3)\n",
    "    SS_start=findfirst(x->x>SS[1],time_stamp)\n",
    "    global SS_end=findfirst(x->x>SS[2],time_stamp)\n",
    "    SS_nrow = nrow(sol_df) - SS_start\n",
    "    global sol_SS = last(sol_df, SS_nrow)\n",
    "            \n",
    "    # find mass zero\n",
    "    Mass_col = columnindex(sol_SS, :Mass)\n",
    "    mass_min = findmin(sol_SS[:, Mass_col])\n",
    "        \n",
    "    # SS = mass peak 4 to 5\n",
    "    global sol_SS = first(sol_SS, mass_min[2])          \n",
    "      \n",
    "    # get time stamp\n",
    "    global time_stamp_SS = sol_SS[:, 28]\n",
    "    writedlm(\"outputFiles/cellCycle/k2_5_mut/time_stamps/time_stamp_SS_\"*string(i)*\".csv\", time_stamp_SS, ',')\n",
    "        \n",
    "    ### Calculate times for cell cycle transitions\n",
    "    global plot_times = DataFrame(Array(collect(Get_CC_transitions(sol_SS))'), colnames)\n",
    "    CSV.write(\"outputFiles/cellCycle/k2_5_mut/plot_times/plot_times_\"*string(i)*\".csv\", plot_times)    \n",
    "            end\n",
    "        \n",
    "    flush(stdout)\n",
    "end"
   ]
  }
 ],
 "metadata": {
  "kernelspec": {
   "display_name": "Julia (32 threads) 1.6.1",
   "language": "julia",
   "name": "julia-(32-threads)-1.6"
  },
  "language_info": {
   "file_extension": ".jl",
   "mimetype": "application/julia",
   "name": "julia",
   "version": "1.6.1"
  }
 },
 "nbformat": 4,
 "nbformat_minor": 5
}
