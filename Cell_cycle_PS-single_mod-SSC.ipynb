{
 "cells": [
  {
   "cell_type": "markdown",
   "id": "832cf47a",
   "metadata": {},
   "source": [
    "# Cell cycle model "
   ]
  },
  {
   "cell_type": "markdown",
   "id": "d04e25f3",
   "metadata": {},
   "source": [
    "## Build the model by importing parameters, reactions and rate laws, and define functions that enable simulation of the cell cycle "
   ]
  },
  {
   "cell_type": "markdown",
   "id": "d64b2d34",
   "metadata": {},
   "source": [
    "### hit shift+Enter to run the code below"
   ]
  },
  {
   "cell_type": "code",
   "execution_count": 2,
   "id": "ee61ddaa",
   "metadata": {},
   "outputs": [],
   "source": [
    "using DifferentialEquations, DataFrames, Plots, CSV, Sundials, JLD2, OrdinaryDiffEq, DelimitedFiles"
   ]
  },
  {
   "cell_type": "code",
   "execution_count": 3,
   "id": "a97652d0",
   "metadata": {},
   "outputs": [
    {
     "data": {
      "text/plain": [
       "affectMassNeg! (generic function with 1 method)"
      ]
     },
     "execution_count": 3,
     "metadata": {},
     "output_type": "execute_result"
    }
   ],
   "source": [
    "function condition(cellcycle,t,integrator) # Event when event_f(u,t) == 0\n",
    "      numerator= cellcycle[indexOfRb]+cellcycle[indexOfE2FRb]+cellcycle[indexOfpE2FRb];  #ACTIVE RB\n",
    "      denominator = numerator+cellcycle[indexOfHypoPRb]; #TOTAL RB\n",
    "\n",
    "      #GM growth (biosynthesis of ribosomes and all necessary machinery)\n",
    "      #previous iterations had numerator/denominator<0.8\n",
    "      #diffEq.jl requires a function that hits 0\n",
    "      (numerator/denominator)-0.8\n",
    "end\n",
    "\n",
    "function affect!(integrator)\n",
    "  print(\"r31 event to 0\\n\")\n",
    "  #update r31Switch to 0\n",
    "  integrator.u[indexOfSwitch] = 0\n",
    "end\n",
    "\n",
    "function affectNeg!(integrator)\n",
    "  print(\"r31 event to 1\\n\")\n",
    "  #update r31Switch to 1\n",
    "  integrator.u[indexOfSwitch] = 1\n",
    "end\n",
    "\n",
    "function conditionCdh(cellcycle,t,integrator) # Event when event_f(u,t) == 0\n",
    "\n",
    "      #triggers when Cdh1 crosses 0.2 in the positive direction\n",
    "      cellcycle[indexOfCdh1]-0.2\n",
    "end\n",
    "\n",
    "## all equal function\n",
    "function allequal(obj)\n",
    "    local x\n",
    "    isfirst = true\n",
    "    for i in obj\n",
    "        if isfirst\n",
    "            x = i\n",
    "            isfirst = false\n",
    "        else\n",
    "            isequal(x, i) || return false\n",
    "        end\n",
    "    end\n",
    "    return true\n",
    "end\n",
    "\n",
    "function affectCdh!(integrator)\n",
    "\n",
    "  #triggers when Cdh1 crosses 0.2 in the positive direction\n",
    "  #update Mass to 0.5* mass\n",
    "\n",
    "#   # get mass value just before divide\n",
    "#   mass_cyc = integrator.u[indexOfMass]\n",
    "#   time = integrator.t\n",
    "#   # push mass value to array\n",
    "#   push!(mass_array, mass_cyc)\n",
    "#   # push mass peak time to array\n",
    "#   push!(mass_peak_time, time)\n",
    "#   # if mass_array > 5, round mass values, and compare last 5\n",
    "#   n=size(mass_array,1)\n",
    "#   if n>6\n",
    "#     mass_array_last = last(mass_array, 6)\n",
    "#     mass_array_rnd = round.(mass_array_last, digits = 3)\n",
    "#     if allequal(mass_array_rnd) == true\n",
    "#       terminate!(integrator)\n",
    "#       return(mass_array, mass_peak_time)\n",
    "#     else\n",
    "   integrator.u[indexOfMass] = 0.5*integrator.u[indexOfMass]\n",
    "#   #Gm to 0.5 * Gm\n",
    "   integrator.u[indexOfGM]=0.5*integrator.u[indexOfGM]\n",
    "# end\n",
    "# end\n",
    "  if integrator.u[indexOfMass]<0.5\n",
    "    #print(\"new switch 0 during division\\n\")\n",
    "    integrator.u[indexNewSwitch]=0\n",
    "  else\n",
    "    #print(\"new switch 1 during division\\n\")\n",
    "    integrator.u[indexNewSwitch]=1\n",
    "  end\n",
    " \n",
    "    #store the latest peak mass in the last spot and shuffle every entry down one.\n",
    "    integrator.u[indexOfMassTracker5]=integrator.u[indexOfMassTracker4]\n",
    "    integrator.u[indexOfMassTracker4]=integrator.u[indexOfMassTracker3]\n",
    "    integrator.u[indexOfMassTracker3]=integrator.u[indexOfMassTracker2]\n",
    "    integrator.u[indexOfMassTracker2]=integrator.u[indexOfMassTracker1]\n",
    "    integrator.u[indexOfMassTracker1]=round(integrator.u[indexOfMass], digits=3)\n",
    "    integrator.u[indexOfMassTrackerTime5]=integrator.u[indexOfMassTrackerTime4]\n",
    "    integrator.u[indexOfMassTrackerTime4]=integrator.u[indexOfMassTrackerTime3]\n",
    "    integrator.u[indexOfMassTrackerTime3]=integrator.u[indexOfMassTrackerTime2]\n",
    "    integrator.u[indexOfMassTrackerTime2]=integrator.u[indexOfMassTrackerTime1]\n",
    "    integrator.u[indexOfMassTrackerTime1]=integrator.t\n",
    "    lastPeaks=[integrator.u[indexOfMassTracker5] integrator.u[indexOfMassTracker4] integrator.u[indexOfMassTracker3] integrator.u[indexOfMassTracker2] integrator.u[indexOfMassTracker1]]\n",
    "    if allequal(lastPeaks)\n",
    "        \n",
    "       terminate!(integrator)\n",
    "    end\n",
    "\n",
    " #print(\"division event\\n\")\n",
    "end\n",
    "\n",
    "## extra functions to stop the cell cycling when mass drops below 0.5\n",
    "\n",
    "function conditionMass(cellcycle,t,integrator) # Event when event_f(u,t) == 0\n",
    "      #triggers when mass crosses 0.5\n",
    "      cellcycle[indexOfMass]-0.5\n",
    "end\n",
    "\n",
    "function affectMass!(integrator)\n",
    "    integrator.u[indexNewSwitch] = 1\n",
    "    #print(\"new switch 1\\n\")\n",
    "end\n",
    "\n",
    "function affectMassNeg!(integrator)\n",
    "    integrator.u[indexNewSwitch] = 0\n",
    "    #print(\"new switch 0\\n\")\n",
    "end"
   ]
  },
  {
   "cell_type": "code",
   "execution_count": 4,
   "id": "976a7c82",
   "metadata": {},
   "outputs": [
    {
     "data": {
      "text/plain": [
       "CallbackSet{Tuple{ContinuousCallback{typeof(condition), typeof(affect!), typeof(affectNeg!), typeof(SciMLBase.INITIALIZE_DEFAULT), typeof(SciMLBase.FINALIZE_DEFAULT), Float64, Int64, Rational{Int64}, Nothing, Int64}, ContinuousCallback{typeof(conditionCdh), typeof(affectCdh!), Nothing, typeof(SciMLBase.INITIALIZE_DEFAULT), typeof(SciMLBase.FINALIZE_DEFAULT), Float64, Int64, Rational{Int64}, Nothing, Int64}, ContinuousCallback{typeof(conditionMass), typeof(affectMass!), typeof(affectMassNeg!), typeof(SciMLBase.INITIALIZE_DEFAULT), typeof(SciMLBase.FINALIZE_DEFAULT), Float64, Int64, Rational{Int64}, Nothing, Int64}}, Tuple{}}((ContinuousCallback{typeof(condition), typeof(affect!), typeof(affectNeg!), typeof(SciMLBase.INITIALIZE_DEFAULT), typeof(SciMLBase.FINALIZE_DEFAULT), Float64, Int64, Rational{Int64}, Nothing, Int64}(condition, affect!, affectNeg!, SciMLBase.INITIALIZE_DEFAULT, SciMLBase.FINALIZE_DEFAULT, nothing, SciMLBase.LeftRootFind, 10, Bool[1, 1], 1, 2.220446049250313e-15, 0, 1//100), ContinuousCallback{typeof(conditionCdh), typeof(affectCdh!), Nothing, typeof(SciMLBase.INITIALIZE_DEFAULT), typeof(SciMLBase.FINALIZE_DEFAULT), Float64, Int64, Rational{Int64}, Nothing, Int64}(conditionCdh, affectCdh!, nothing, SciMLBase.INITIALIZE_DEFAULT, SciMLBase.FINALIZE_DEFAULT, nothing, SciMLBase.LeftRootFind, 10, Bool[1, 1], 1, 2.220446049250313e-15, 0, 1//100), ContinuousCallback{typeof(conditionMass), typeof(affectMass!), typeof(affectMassNeg!), typeof(SciMLBase.INITIALIZE_DEFAULT), typeof(SciMLBase.FINALIZE_DEFAULT), Float64, Int64, Rational{Int64}, Nothing, Int64}(conditionMass, affectMass!, affectMassNeg!, SciMLBase.INITIALIZE_DEFAULT, SciMLBase.FINALIZE_DEFAULT, nothing, SciMLBase.LeftRootFind, 10, Bool[1, 1], 1, 2.220446049250313e-15, 0, 1//100)), ())"
      ]
     },
     "execution_count": 4,
     "metadata": {},
     "output_type": "execute_result"
    }
   ],
   "source": [
    "#use the callbacks described above to trigger events\n",
    "cb = ContinuousCallback(condition,affect!,affectNeg!)\n",
    "cb2 = ContinuousCallback(conditionCdh,affectCdh!,nothing)\n",
    "cb3 = ContinuousCallback(conditionMass,affectMass!,affectMassNeg!)\n",
    "cbs=CallbackSet(cb,cb2,cb3)"
   ]
  },
  {
   "cell_type": "code",
   "execution_count": 5,
   "id": "3cbb89b4",
   "metadata": {},
   "outputs": [
    {
     "data": {
      "text/plain": [
       "initConditionsCellCycle (generic function with 1 method)"
      ]
     },
     "execution_count": 5,
     "metadata": {},
     "output_type": "execute_result"
    }
   ],
   "source": [
    "function initConditionsCellCycle(y0,syms)\n",
    "   #units: M \n",
    "   y0[findfirst(isequal(\"ERG\"),syms)]=0.0121809 \n",
    "   y0[findfirst(isequal(\"p27_cycA_Cdk2\"),syms)]=0.0356927\n",
    "   y0[findfirst(isequal(\"p27\"),syms)]=0.00922806\n",
    "   y0[findfirst(isequal(\"Cdc20\"),syms)]=0.00220177 \n",
    "   y0[findfirst(isequal(\"p27_cycE_Cdk2\"),syms)]=0.000542587\n",
    "   y0[findfirst(isequal(\"cycE\"),syms)]=0.0229112 \n",
    "   y0[findfirst(isequal(\"cycA\"),syms)]=1.4094 \n",
    "   y0[findfirst(isequal(\"cycB\"),syms)]=2.72898\n",
    "   y0[findfirst(isequal(\"p27_cycD_Cdk2\"),syms)]=0.010976 \n",
    "   y0[findfirst(isequal(\"cycD\"),syms)]=0.43929 \n",
    "   y0[findfirst(isequal(\"Cdh1\"),syms)]=0.000653278 \n",
    "   y0[findfirst(isequal(\"DRG\"),syms)]=0.900533\n",
    "   y0[findfirst(isequal(\"PPX\"),syms)]=1.0\n",
    "   y0[findfirst(isequal(\"IEP\"),syms)]=0.154655\n",
    "   y0[findfirst(isequal(\"Cdc20t\"),syms)]=2.36733\n",
    "   y0[findfirst(isequal(\"E2F_Rb\"),syms)]=0.00478911\n",
    "   y0[findfirst(isequal(\"E2F\"),syms)]=0.989986\n",
    "   y0[findfirst(isequal(\"HypoP_Rb\"),syms)]=9.97574\n",
    "   y0[findfirst(isequal(\"pE2F_Rb\"),syms)]=0.0192822\n",
    "   y0[findfirst(isequal(\"pE2F\"),syms)]=3.98594\n",
    "   y0[findfirst(isequal(\"GM\"),syms)]=1.35565\n",
    "   y0[findfirst(isequal(\"r31switch\"),syms)]=1\n",
    "   y0[findfirst(isequal(\"cMyc\"),syms)]=40\n",
    "   y0[findfirst(isequal(\"Mass\"),syms)]=1\n",
    "   y0[findfirst(isequal(\"newSwitch\"),syms)]=1\n",
    "   y0[findfirst(isequal(\"Rb\"),syms)]=0\n",
    "   y0[findfirst(isequal(\"cMyct\"),syms)]=40\n",
    "   return y0\n",
    "end"
   ]
  },
  {
   "cell_type": "markdown",
   "id": "b7933e67",
   "metadata": {},
   "source": [
    "### This function calculates the time point in the solution of the model at which transitions between different\n",
    "### stages of the cell cycle occur."
   ]
  },
  {
   "cell_type": "code",
   "execution_count": 6,
   "id": "489f3aeb",
   "metadata": {},
   "outputs": [
    {
     "data": {
      "text/plain": [
       "Get_CC_transitions (generic function with 1 method)"
      ]
     },
     "execution_count": 6,
     "metadata": {},
     "output_type": "execute_result"
    }
   ],
   "source": [
    "### NEW FUNCTION\n",
    "\n",
    "function Get_CC_transitions(sol_SS, time_stamp_SS)\n",
    "  Cdh1_col = columnindex(sol_df, :Cdh1)\n",
    "  cycA_col = columnindex(sol_df, :cycA)\n",
    "  cycB_col = columnindex(sol_df, :cycB)\n",
    "  cycE_col = columnindex(sol_df, :cycE)\n",
    "  Mass_col = columnindex(sol_df, :Mass)\n",
    "\n",
    "  sol_SS_cc = sol_SS[:, [Cdh1_col,cycA_col,cycB_col,cycE_col,Mass_col]]\n",
    "\n",
    "  # G1 -> S boundary when cycB is > 0 (or close to 0)cycB_peak_df = convert_colname(max_cycB[2])\n",
    "  # S to G2 when CycE is gone but before peak in CycA\n",
    "  # G2 to M at peak of CycB before rapid decrease in CycB, CycA should already be decreasing and about half way gone.\n",
    "\n",
    "  SS_zero = convert(Int64, round(time_stamp_SS[1], digits=0))\n",
    "\n",
    "  ##G1/S\n",
    "  max_Cdh1 = findmax(sol_SS_cc[:,1])\n",
    "  submax_Cdh1 = (max_Cdh1[1]/100)*95\n",
    "  submax_Cdh1 = findfirst(x->x>submax_Cdh1, sol_SS_cc[:,1])\n",
    "  G1S_df = sol_SS_cc[submax_Cdh1:nrow(sol_SS_cc),:]\n",
    "  col_Cdh1 = G1S_df[:,1]  \n",
    "  half_max_Cdh1 = max_Cdh1[1]*0.5\n",
    "  G1S=findfirst(x->x<half_max_Cdh1,col_Cdh1)\n",
    "  G1S_t = convert(Int64, round(time_stamp_SS[G1S+submax_Cdh1],digits=0))\n",
    "  G1S_t = G1S_t - SS_zero\n",
    "    \n",
    "  ## S/G2\n",
    "  G1St = SS_zero+G1S_t\n",
    "  G1St_TS = findfirst(x->x>G1St, time_stamp_SS)\n",
    "  # get max value of cycA\n",
    "  colcycA = sol_SS_cc[:,2]\n",
    "  max_cycA = findmax(colcycA[G1St_TS:end])\n",
    "  # get time when cycA is max - 2.5%\n",
    "  submaxA = (max_cycA[1]/100)*97.5\n",
    "  submaxA = findfirst(x->x>submaxA,colcycA)\n",
    "  SG2_t = convert(Int64, round(time_stamp_SS[submaxA],digits=0))\n",
    "  SG2_t = SG2_t - SS_zero\n",
    "\n",
    "  ## G2/M\n",
    "  SG2t = SS_zero+SG2_t\n",
    "  SG2t_TS = findfirst(x->x>SG2t, time_stamp_SS)\n",
    "  col_cycB = sol_SS_cc[:,3]\n",
    "  max_cycB = findmax(col_cycB[SG2t_TS:end])\n",
    "  #submaxB = (max_cycB[1]/100)*97.5\n",
    "  max_cycB = findfirst(x->x==max_cycB[1],col_cycB)\n",
    "  G2M_time = convert(Int64, round(time_stamp_SS[max_cycB],digits=0))\n",
    "  G2M_t = G2M_time - SS_zero\n",
    "\n",
    "  ## M\n",
    "  M_t = convert(Int64, round(time_stamp_SS[end],digits=0)) - SS_zero\n",
    "\n",
    "  return(G1S_t,SG2_t,G2M_t,M_t)\n",
    "\n",
    "end"
   ]
  },
  {
   "cell_type": "markdown",
   "id": "13f70d6c",
   "metadata": {},
   "source": [
    "### Here we import csv files containing all the information required to build a model file of \n",
    "### ordinary differential equations"
   ]
  },
  {
   "cell_type": "code",
   "execution_count": 7,
   "id": "7fdd58ae",
   "metadata": {
    "scrolled": true
   },
   "outputs": [
    {
     "name": "stdout",
     "output_type": "stream",
     "text": [
      "scan\n",
      "Running CSV2JuliaDiffEq with parameters left as a function call to paramFun(n), for all params. We will also create a paramFun.jl file that should be included and defines all parameters. If this is incorrect, please re-run with 5th argument set to 'inline'\n",
      "Opening rateLaws_plus_myc3.csv as rate law file\n",
      "Opening parameters_plus_myc.csv as parameters file\n",
      "Opening reactions_plus_myc3.csv as reactions file\n"
     ]
    },
    {
     "data": {
      "text/plain": [
       "Process(`\u001b[4mpython3\u001b[24m \u001b[4mcsv2model-multiscale.py\u001b[24m \u001b[4mreactions_plus_myc3.csv\u001b[24m \u001b[4mparameters_plus_myc.csv\u001b[24m \u001b[4mrateLaws_plus_myc3.csv\u001b[24m \u001b[4modeCellCycle.jl\u001b[24m \u001b[4mscan\u001b[24m`, ProcessExited(0))"
      ]
     },
     "execution_count": 7,
     "metadata": {},
     "output_type": "execute_result"
    }
   ],
   "source": [
    "### Files\n",
    "reactionsFile=\"reactions_plus_myc3.csv\"\n",
    "parametersFile=\"parameters_plus_myc.csv\"\n",
    "rateLawsFile=\"rateLaws_plus_myc3.csv\"\n",
    "arguments=[reactionsFile, parametersFile, rateLawsFile, \"odeCellCycle.jl\", \"scan\"]\n",
    "locationOfCSV2Julia=\"csv2model-multiscale.py\"\n",
    "cmd=`python3 $locationOfCSV2Julia $arguments`\n",
    "run(cmd)"
   ]
  },
  {
   "cell_type": "code",
   "execution_count": 8,
   "id": "85a85bd1",
   "metadata": {},
   "outputs": [
    {
     "data": {
      "text/plain": [
       "37"
      ]
     },
     "execution_count": 8,
     "metadata": {},
     "output_type": "execute_result"
    }
   ],
   "source": [
    "locationOfVariableNames=\"variableNames.jl\"\n",
    "include(locationOfVariableNames)\n",
    "indexOfMass=findfirst(x->\"Mass\"==x,syms)\n",
    "indexOfGM=findfirst(x->\"GM\"==x,syms)\n",
    "indexNewSwitch=findfirst(x->\"newSwitch\"==x,syms)\n",
    "indexOfRb=findfirst(x->\"Rb\"==x,syms)\n",
    "indexOfE2FRb=findfirst(x->\"E2F_Rb\"==x,syms)\n",
    "indexOfpE2FRb=findfirst(x->\"pE2F_Rb\"==x,syms)\n",
    "indexOfHypoPRb=findfirst(x->\"HypoP_Rb\"==x,syms)\n",
    "indexOfSwitch=findfirst(x->\"r31switch\"==x,syms)\n",
    "indexOfCdh1=findfirst(x->\"Cdh1\"==x,syms)\n",
    "indexOfMassTracker1=findfirst(x->\"previousMass1\"==x,syms)\n",
    "indexOfMassTracker2=findfirst(x->\"previousMass2\"==x,syms)\n",
    "indexOfMassTracker3=findfirst(x->\"previousMass3\"==x,syms)\n",
    "indexOfMassTracker4=findfirst(x->\"previousMass4\"==x,syms)\n",
    "indexOfMassTracker5=findfirst(x->\"previousMass5\"==x,syms)\n",
    "indexOfMassTrackerTime1=findfirst(x->\"previousMassTime1\"==x,syms)\n",
    "indexOfMassTrackerTime2=findfirst(x->\"previousMassTime2\"==x,syms)\n",
    "indexOfMassTrackerTime3=findfirst(x->\"previousMassTime3\"==x,syms)\n",
    "indexOfMassTrackerTime4=findfirst(x->\"previousMassTime4\"==x,syms)\n",
    "indexOfMassTrackerTime5=findfirst(x->\"previousMassTime5\"==x,syms)"
   ]
  },
  {
   "cell_type": "code",
   "execution_count": 9,
   "id": "e8823a04",
   "metadata": {},
   "outputs": [
    {
     "name": "stdout",
     "output_type": "stream",
     "text": [
      "parameters can now be modified by name.\n",
      "example to modify k_binding 1.5 fold higher:\n",
      "modify[\"k_binding\"]=1.5\n"
     ]
    }
   ],
   "source": [
    "include(\"odeCellCycle.jl\")\n",
    "include(\"variableNames.jl\")\n",
    "include(\"scanIncludes.jl\")"
   ]
  },
  {
   "cell_type": "markdown",
   "id": "d93ba18a",
   "metadata": {},
   "source": [
    "### Set solve conditions"
   ]
  },
  {
   "cell_type": "code",
   "execution_count": 10,
   "id": "49cad869",
   "metadata": {
    "scrolled": true
   },
   "outputs": [
    {
     "data": {
      "text/plain": [
       "20"
      ]
     },
     "execution_count": 10,
     "metadata": {},
     "output_type": "execute_result"
    }
   ],
   "source": [
    "syms=Symbol.(syms)\n",
    "\n",
    "maxTimeSS=100000.0\n",
    "maxTimeTC=24*60.0\n",
    "\n",
    "DISincrease=0.000001\n",
    "\n",
    "## set time to solve\n",
    "TCLength=300*60\n",
    "## set max attempts to find steady state\n",
    "maximumAttemptsAtSS=20"
   ]
  },
  {
   "cell_type": "markdown",
   "id": "40d0e497",
   "metadata": {},
   "source": [
    "### Define the problem"
   ]
  },
  {
   "cell_type": "code",
   "execution_count": 11,
   "id": "b3a16e98",
   "metadata": {},
   "outputs": [
    {
     "data": {
      "text/plain": [
       "\u001b[36mODEProblem\u001b[0m with uType \u001b[36mVector{Float64}\u001b[0m and tType \u001b[36mFloat64\u001b[0m. In-place: \u001b[36mtrue\u001b[0m\n",
       "timespan: (0.0, 100000.0)\n",
       "u0: 37-element Vector{Float64}:\n",
       "  0.0121809\n",
       "  0.0356927\n",
       "  0.00922806\n",
       "  0.00220177\n",
       "  0.000542587\n",
       "  0.0229112\n",
       "  1.4094\n",
       "  2.72898\n",
       "  0.010976\n",
       "  0.43929\n",
       "  0.000653278\n",
       "  0.900533\n",
       "  1.0\n",
       "  ⋮\n",
       "  0.0\n",
       " 40.0\n",
       "  0.0\n",
       "  0.0\n",
       "  0.0\n",
       "  0.0\n",
       "  0.0\n",
       "  0.0\n",
       "  0.0\n",
       "  0.0\n",
       "  0.0\n",
       "  0.0"
      ]
     },
     "execution_count": 11,
     "metadata": {},
     "output_type": "execute_result"
    }
   ],
   "source": [
    "f=ODEFunction(odeCellCycle,syms=syms)\n",
    "y0=zeros(length(syms))\n",
    "y0=initConditionsCellCycle(y0,String.(syms))\n",
    "prob=ODEProblem(f,y0,(0.0,maxTimeSS))"
   ]
  },
  {
   "cell_type": "code",
   "execution_count": 12,
   "id": "68fef714",
   "metadata": {
    "scrolled": true
   },
   "outputs": [
    {
     "data": {
      "text/plain": [
       "4-element Vector{String}:\n",
       " \"G1S\"\n",
       " \"SG2\"\n",
       " \"G2M\"\n",
       " \"M\""
      ]
     },
     "execution_count": 12,
     "metadata": {},
     "output_type": "execute_result"
    }
   ],
   "source": [
    "global colnames=[\"G1S\", \"SG2\", \"G2M\", \"M\"]"
   ]
  },
  {
   "cell_type": "code",
   "execution_count": 13,
   "id": "ee9d37ad",
   "metadata": {},
   "outputs": [],
   "source": [
    "using JLD2, FileIO"
   ]
  },
  {
   "cell_type": "markdown",
   "id": "5853ed32",
   "metadata": {},
   "source": [
    "\n",
    "### here we will solve the model until we find a steady state, at which point we will calculate the timing of transitions between cell cycle checkpoints"
   ]
  },
  {
   "cell_type": "code",
   "execution_count": null,
   "id": "d93e0413",
   "metadata": {},
   "outputs": [],
   "source": [
    "paramNames = Dict(\"k1_16\" => \"ERG_deg\", \"k1_30\" => \"CycA_deg\", \"k1_25R\" => \"p27_cycE_Cdk2_deg\", \"k2_5\" => \"p27_exp\", \"k1_18\" => \"DRG_deg\", \"k1_12\" => \"Cdc20t_deg\",\n",
    "\"k1_13\" => \"Cdc20_exp1\", \"k2_j13\" => \"Cdc20_exp2\", \"k1_14\" => \"Cdc20_deg1\", \"k2_j14\" => \"Cdc20_deg2\",\n",
    "\"k1_10\" => \"p27_cycD_Cdk2_deg\", \"k2_mu\" => \"mass_gain\", \"k2_15\" => \"ERG_exp2\", \"k3_j15\" => \"ERG_exp3\", \"k2_11a\" => \"Cdc20t_exp2\", \"k3_11\" => \"Cdc20t_exp3\", \"k2_29\" => \"cycA_exp\",\n",
    "\"k1_3a\" => \"Cdh1_exp1\", \"k2_3\" => \"Cdh1_exp2\", \"k3_J3\" => \"Cdh1_exp3\", \"k2_1a\" => \"cycB_exp2\", \"k3_1\" => \"cycB_exp3\", \"k4_j1\" => \"cycB_exp4\",\n",
    "\"k1_23a\" => \"E2F_phos1\", \"K2_3a\" => \"E2F_phos2\",\n",
    "\"k2_17\" => \"DRG_exp2\", \"k3_j17\" => \"DRG_exp3\", \"k4_17a\" => \"DRG_exp4\", \"k1_j4\" => \"Cdh1_deg1\", \"k2_4\" => \"Cdh1_deg2\", \"k3_ga\" => \"Cdh1_deg3\", \"k4_gb\" => \"Cdh1_deg4\", \"k5_ge\" => \"Cdh1_deg5\",\n",
    "\"k2_1a\" => \"cycB_exp2\", \"k3_1\" => \"cycB_exp3\", \"k4_j1\" => \"cycB_exp4\", \"k2_7a\" => \"cycE_exp2\", \"k3_7\" => \"cycE_exp3\", \"k1_31\" => \"IEP_exp1\", \"k2_j31\" => \"IEP_exp2\",\n",
    "\"k1_8a\" => \"p27.cycE.Cdk2_degp27_1\", \"k2_8\" => \"p27.cycE.Cdk2_degp27_2\", \"k3_yb\" => \"p27.cycE.Cdk2_degp27_3\", \"k4_ye\" => \"p27.cycE.Cdk2_degp27_4\", \"k5_j8\" => \"p27.cycE.Cdk2_degp27_5\",\n",
    "\"k1_22\" => \"pE2F_Rb_dephos\", \"k1_34\" => \"PPX_deg\",\n",
    "\"k1_25\" => \"cycAp27_bind_Cdk2\", \"k1_26\" => \"E2F_bind_Rb\", \"k2_23\" => \"E2F_phos2\", \"k3_2\" => \"cycB_deg3\", \"k2_2a\" => \"cycB_deg2\", \"k1_J4\" => \"Cdh1_deg\",\n",
    "\"k1_24r\" => \"p27_cycD_Cdk2_deg\",\n",
    "\"k2_9\" => \"cycD_exp\", \"k2_19a\" => \"Rb_phos2\", \"k4_21\" => \"Rb_phos4\", \"k5_fb\" => \"Rb_phos5\", \"k6_fe\" => \"Rb_phos6\",\n",
    "\"k1_6a\" => \"p27.cycE/D/A.Cdk2_deg1\", \"k2_6\" => \"p27.cycE/D/A.Cdk2_deg2\", \"k3_ha\" => \"p27.cycE/D/A.Cdk2_deg3\", \"k4_hb\" => \"p27.cycE/D/A.Cdk2_deg4\", \"k5_he\" => \"p27.cycE/D/A.Cdk2_deg5\",\n",
    "\"k1_20\" => \"E2F_Rb_diss1\", \"k2_la\" => \"E2F_Rb_diss2\", \"k3_lb\" => \"E2F_Rb_diss3\", \"k4_ld\" => \"E2F_Rb_diss4\", \"k5_le\" => \"E2F_Rb_diss5\",\n",
    "\"k1_24\" => \"p27.cycD_binds_Cdk2\", \"k1_2aa\" => \"cycB_exp1b\", \"k2_j32\" => \"IEP_deg2\", \"k1_26r\" => \"pE2F_Rb_prod\",\n",
    "\"k1_28\" => \"GM_prod\", \"k1_19\" => \"Rb_phos1\", \"k3_pp1t\" => \"Rb_phos3\")"
   ]
  },
  {
   "cell_type": "markdown",
   "id": "9588b93a",
   "metadata": {},
   "source": [
    "## Now we're going to run the model\n",
    "### this will take a few minutes"
   ]
  },
  {
   "cell_type": "code",
   "execution_count": 14,
   "id": "8db933e6",
   "metadata": {
    "scrolled": true,
    "tags": []
   },
   "outputs": [
    {
     "name": "stdout",
     "output_type": "stream",
     "text": [
      "Solving model\n",
      "Model solved\n",
      "Plot times calculated\n",
      "If results look good please send beer to...\n"
     ]
    }
   ],
   "source": [
    "### solve\n",
    "println(\"Solving model\")  \n",
    "global sol = solve(prob,callback=cbs, abstol=1e-5,reltol=1e-3,saveat=1.0)\n",
    "println(\"Model solved\")\n",
    "\n",
    "### get steady state - steady state = time between peak mass values plus division (when mass drops to zero)\n",
    "sol_df = DataFrame(sol', syms)\n",
    "time_stamp = sol.t\n",
    "sol_df[!, :time_stamp] = time_stamp\n",
    "\n",
    "indexOfLastCycleStart=findfirst(x->x>sol[indexOfMassTrackerTime2,end],sol.t)\n",
    "sol_SS = sol_df[indexOfLastCycleStart:end, :]\n",
    "\n",
    "# get time stamp\n",
    "time_stamp_SS = sol_SS[:, :time_stamp]\n",
    "\n",
    "### Calculate times for cell cycle transitions\n",
    "colnames=[\"G1S\", \"SG2\", \"G2M\", \"M\"]\n",
    "plot_times = DataFrame(Array(collect(Get_CC_transitions(sol_SS, time_stamp_SS))'), colnames)\n",
    "println(\"Plot times calculated\")\n",
    "println(\"If results look good please send beer to...\")"
   ]
  },
  {
   "cell_type": "markdown",
   "id": "1797c64e",
   "metadata": {},
   "source": [
    "## Plotting"
   ]
  },
  {
   "cell_type": "code",
   "execution_count": 15,
   "id": "ecf5611a",
   "metadata": {},
   "outputs": [
    {
     "data": {
      "text/plain": [
       "10"
      ]
     },
     "execution_count": 15,
     "metadata": {},
     "output_type": "execute_result"
    }
   ],
   "source": [
    "include(locationOfVariableNames)\n",
    "global indexCdh1=findfirst(x->\"Cdh1\"==x,syms)\n",
    "global indexMass=findfirst(x->\"Mass\"==x,syms)\n",
    "global indexcycE=findfirst(x->\"cycE\"==x,syms)\n",
    "global indexcycA=findfirst(x->\"cycA\"==x,syms)\n",
    "global indexcycB=findfirst(x->\"cycB\"==x,syms)\n",
    "global indexIEP=findfirst(x->\"IEP\"==x,syms)\n",
    "global indexnewSwitch=findfirst(x->\"newSwitch\"==x,syms)\n",
    "global indexmyc=findfirst(x->\"cMyc\"==x,syms)\n",
    "global indexmyct=findfirst(x->\"cMyct\"==x,syms)\n",
    "global indexp27=findfirst(x->\"p27_cycE_Cdk2\"==x,syms)\n",
    "global indexcycD=findfirst(x->\"cycD\"==x,syms)"
   ]
  },
  {
   "cell_type": "code",
   "execution_count": 16,
   "id": "dcedbf28",
   "metadata": {},
   "outputs": [
    {
     "data": {
      "text/plain": [
       "plot_steady_state (generic function with 1 method)"
      ]
     },
     "execution_count": 16,
     "metadata": {},
     "output_type": "execute_result"
    }
   ],
   "source": [
    "function plot_steady_state(sol, time_stamp_SS, title)\n",
    "    G1_S = trunc(Int, (plot_times[1,1]+time_stamp_SS[1,1]))\n",
    "    S_G2 = trunc(Int, (plot_times[1,2]+time_stamp_SS[1,1]))\n",
    "    G2_M = trunc(Int, (plot_times[1,3]+time_stamp_SS[1,1]))\n",
    "    M = trunc(Int, (plot_times[1,4]+time_stamp_SS[1,1]))\n",
    "\n",
    "    G1S = string(plot_times[1,1])\n",
    "    SG2 = string(plot_times[1,2])\n",
    "    G2M = string(plot_times[1,3])\n",
    "    M_ = string(plot_times[1,4])\n",
    "\n",
    "    ###plot\n",
    "    plot(sol, vars=[indexCdh1,indexcycE,indexcycA,indexcycB,indexIEP],\n",
    "          lc=[:green :yellow :purple :red :blue :orange],\n",
    "          lw=2.5,\n",
    "          xlabel=\"time (hours)\",\n",
    "          xlims=(time_stamp_SS[1], time_stamp_SS[end]+20),\n",
    "          xticks=(sol.t[indexOfLastCycleStart]:120:sol.t[end], string.(0:2:45)),\n",
    "          legend= :outertopright,\n",
    "          ylims=(0,5),\n",
    "          title = title,\n",
    "          fmt = :png)    \n",
    "    vline!([G1_S], color=:black, linestyle=:dash, lw=1, label=\"G1/S \"*G1S*\" mins\")\n",
    "    vline!([S_G2], color=:black, linestyle=:dash, lw=1.5, label=\"S/G2 \"*SG2*\" mins\")\n",
    "    vline!([G2_M], color=:black, linestyle=:dash, lw=2, label=\"G2/M \"*G2M*\" mins\")\n",
    "    vline!([M], color=:black, linestyle=:dash, lw=2.5, label=\"M \"*M_*\" mins\")\n",
    "end"
   ]
  },
  {
   "cell_type": "code",
   "execution_count": 17,
   "id": "c53f940c",
   "metadata": {},
   "outputs": [
    {
     "data": {
      "image/png": "[encoded data removed]"
     },
     "execution_count": 17,
     "metadata": {},
     "output_type": "execute_result"
    }
   ],
   "source": [
    "## plot wild type\n",
    "plot_steady_state(sol, time_stamp_SS, \"Cell cycle wild type steady state\")"
   ]
  },
  {
   "cell_type": "markdown",
   "id": "7df526ab",
   "metadata": {},
   "source": [
    "## Now that we've run the model with wild type conditions, we can see what happens if we introduce a mutation"
   ]
  },
  {
   "cell_type": "code",
   "execution_count": 31,
   "id": "6fa9492d",
   "metadata": {},
   "outputs": [
    {
     "data": {
      "text/plain": [
       "sim_mut (generic function with 1 method)"
      ]
     },
     "execution_count": 31,
     "metadata": {},
     "output_type": "execute_result"
    }
   ],
   "source": [
    "function sim_mut(parameter)\n",
    "\n",
    "    run(cmd)\n",
    "\n",
    "    #mv(\"odeCellCycle.jl\",\"odeCellCycle.jl\", force=true)\n",
    "    #mv(\"variableNames.jl\",\"variableNames.jl\", force=true)\n",
    "\n",
    "    include(\"odeCellCycle.jl\")\n",
    "    include(\"variableNames.jl\")\n",
    "    include(\"scanIncludes.jl\")\n",
    "\n",
    "    modify[parameter] = 1.5\n",
    "\n",
    "    ### solve\n",
    "    println(\"Solving model\")  \n",
    "    global sol_mut = solve(prob,callback=cbs, abstol=1e-5,reltol=1e-3,saveat=1.0)\n",
    "    println(\"Model solved\")\n",
    "\n",
    "    ### get steady state - steady state = time between peak mass values plus division (when mass drops to zero)\n",
    "    sol_df = DataFrame(sol_mut', syms)\n",
    "    time_stamp = sol_mut.t\n",
    "    sol_df[!, :time_stamp] = time_stamp\n",
    "\n",
    "    indexOfLastCycleStart=findfirst(x->x>sol_mut[indexOfMassTrackerTime2,end],sol_mut.t)\n",
    "    sol_SS = sol_df[indexOfLastCycleStart:end, :]\n",
    "\n",
    "    # get time stamp\n",
    "    time_stamp_SS = sol_SS[:, :time_stamp]\n",
    "\n",
    "    ### Calculate times for cell cycle transitions\n",
    "    colnames=[\"G1S\", \"SG2\", \"G2M\", \"M\"]\n",
    "    plot_times = DataFrame(Array(collect(Get_CC_transitions(sol_SS, time_stamp_SS))'), colnames)\n",
    "    println(\"Plot times calculated\")\n",
    "    println(\"If results look good please send beer to...\")\n",
    "end"
   ]
  },
  {
   "cell_type": "code",
   "execution_count": 32,
   "id": "ee632952",
   "metadata": {},
   "outputs": [
    {
     "name": "stdout",
     "output_type": "stream",
     "text": [
      "scan\n",
      "Running CSV2JuliaDiffEq with parameters left as a function call to paramFun(n), for all params. We will also create a paramFun.jl file that should be included and defines all parameters. If this is incorrect, please re-run with 5th argument set to 'inline'\n",
      "Opening rateLaws_plus_myc3.csv as rate law file\n",
      "Opening parameters_plus_myc.csv as parameters file\n",
      "Opening reactions_plus_myc3.csv as reactions file\n",
      "parameters can now be modified by name.\n",
      "example to modify k_binding 1.5 fold higher:\n",
      "modify[\"k_binding\"]=1.5\n",
      "Solving model\n",
      "Model solved\n",
      "Plot times calculated\n",
      "If results look good please send beer to...\n"
     ]
    }
   ],
   "source": [
    "sim_mut(\"k1_13\")"
   ]
  },
  {
   "cell_type": "code",
   "execution_count": 33,
   "id": "ed54441a",
   "metadata": {},
   "outputs": [
    {
     "data": {
      "image/png": "[encoded data removed]"
     },
     "execution_count": 33,
     "metadata": {},
     "output_type": "execute_result"
    }
   ],
   "source": [
    "plot_steady_state(sol_mut, time_stamp_SS, \"Cell cycle steady state with a * mutation\")  ### replace the * with the name of the gene or complex mutated"
   ]
  },
  {
   "cell_type": "markdown",
   "id": "617ecd87",
   "metadata": {},
   "source": [
    "## optional - if you wish to simulate different mutations of the same gene"
   ]
  },
  {
   "cell_type": "code",
   "execution_count": null,
   "id": "92fa7306",
   "metadata": {
    "scrolled": true
   },
   "outputs": [],
   "source": [
    "mut=[1,1.5,2,5]"
   ]
  },
  {
   "cell_type": "code",
   "execution_count": null,
   "id": "9c62021d",
   "metadata": {
    "scrolled": true
   },
   "outputs": [],
   "source": [
    "#### run multiple mutation simulation\n",
    "\n",
    "function sim_mut(parameter)\n",
    "    \n",
    "mkpath(\"outputFiles/\")\n",
    "\n",
    "for (i) in mut\n",
    "    \n",
    "    run(cmd)\n",
    "    \n",
    "    mv(\"odeCellCycle.jl\",\"odeCellCycle.jl\", force=true)\n",
    "    mv(\"variableNames.jl\",\"variableNames.jl\", force=true)\n",
    "    \n",
    "    include(\"odeCellCycle.jl\")\n",
    "    include(\"variableNames.jl\")\n",
    "    include(\"scanIncludes.jl\")\n",
    "    \n",
    "    println(\"Solving for \" ,i, \"...\")  \n",
    "    \n",
    "    modify[\"k1_myc\"] = i\n",
    "    \n",
    "    global mass_array=[]\n",
    "    global mass_peak_time=[]\n",
    "            \n",
    "     ### solve\n",
    "    println(\"Solving model\")  \n",
    "    global sol = solve(prob,callback=cbs, abstol=1e-5,reltol=1e-3,saveat=1.0)\n",
    "    println(\"Model solved\")\n",
    "\n",
    "    ### get steady state - steady state = time between peak mass values plus division (when mass drops to zero)\n",
    "    global sol_df = DataFrame(sol', syms)\n",
    "    global time_stamp = sol.t\n",
    "    global sol_df[!, :time_stamp] = time_stamp\n",
    "\n",
    "    indexOfLastCycleStart=findfirst(x->x>sol[indexOfMassTrackerTime2,end],sol.t)\n",
    "    global sol_SS = sol_df[indexOfLastCycleStart:end, :]\n",
    "\n",
    "    # get time stamp\n",
    "    global time_stamp_SS = sol_SS[:, :time_stamp]\n",
    "\n",
    "    ### Calculate times for cell cycle transitions\n",
    "    colnames=[\"G1S\", \"SG2\", \"G2M\", \"M\"]\n",
    "    global plot_times = DataFrame(Array(collect(Get_CC_transitions(sol_SS, time_stamp_SS))'), colnames)\n",
    "    CSV.write(\"outputFiles/plot_times_\"*parameter*\"_x\"string(i)*\".csv\", plot_times) \n",
    "    println(\"Plot times calculated\")\n",
    "    println(\"If results look good please send beer to...\")\n",
    "        \n",
    "    flush(stdout)\n",
    "end"
   ]
  },
  {
   "cell_type": "code",
   "execution_count": null,
   "id": "cb8d5eef",
   "metadata": {},
   "outputs": [],
   "source": [
    "## create empty DataFrame for results\n",
    "plot_times_df = DataFrame(G1S=Int64[], SG2=Int64[], G2M=Int64[], M=Int64[], mut=Float64[])"
   ]
  },
  {
   "cell_type": "code",
   "execution_count": null,
   "id": "7ee5a6ef",
   "metadata": {},
   "outputs": [],
   "source": [
    "## find results and add to dataframe\n",
    "\n",
    "for i in mut\n",
    "    \n",
    "plot_times = DataFrame(CSV.File(\"outputFiles/plot_times_\"*string(i)*\".csv\", header=true))\n",
    "    \n",
    "plot_times[!, :mut] = [i]\n",
    "    \n",
    "append!(plot_times_df_myc, plot_times)\n",
    "        \n",
    "end"
   ]
  },
  {
   "cell_type": "code",
   "execution_count": null,
   "id": "db6e5adc",
   "metadata": {},
   "outputs": [],
   "source": [
    "# get length of each part of the cell cycle from the end times\n",
    "function res_mod(df)\n",
    "      for i in 1:nrow(df)\n",
    "            df[i,4]=df[i,4] - df[i,3]\n",
    "            df[i,3]=df[i,3] - df[i,2]\n",
    "            df[i,2]=df[i,2] - df[i,1]\n",
    "      end\n",
    "      return(df)\n",
    "end"
   ]
  },
  {
   "cell_type": "code",
   "execution_count": null,
   "id": "6a0def5b",
   "metadata": {},
   "outputs": [],
   "source": [
    "using StatsPlots"
   ]
  },
  {
   "cell_type": "code",
   "execution_count": null,
   "id": "71cb6318",
   "metadata": {},
   "outputs": [],
   "source": [
    "function HistoPlot(plot_times)\n",
    "    \n",
    "    CC_res = deepcopy(plot_times[!, 1:4])\n",
    "    \n",
    "    CC_res = Matrix(res_mod(CC_res))\n",
    "    \n",
    "    G1 = CC_res[:,1]\n",
    "    S = CC_res[:,2]\n",
    "    G2 = CC_res[:,3]\n",
    "    M = CC_res[:,4]\n",
    "    \n",
    "    plot_names = [\"WT\", \"x1.5\", \"x2\", \"x5\"]\n",
    "    \n",
    "    StatsPlots.groupedbar(plot_names, [M G2 S G1],\n",
    "            bar_position = :stack,\n",
    "            bar_width=0.8,\n",
    "            #bar_spacing=0.5,\n",
    "            label=[\"M\" \"G2\" \"S\" \"G1\"],\n",
    "            xlims=(0,13*60),\n",
    "            xlabel=\"Myc copy number\",\n",
    "            ytickfont=font(12),\n",
    "            xtickfont=font(12),\n",
    "            xguidefontsize=font(12),\n",
    "            orientation = :horizontal,\n",
    "            #yticks=:all,\n",
    "            legend=:outertopright,\n",
    "            size=(1200,350)\n",
    "    )\n",
    "    s=string.(collect(0:1:13))\n",
    "    plot!(xticks = (0:(60*1):(60*13),s),xlabel=\"time (hours)\",fmt = :png)\n",
    "    vline!([309], color=:black, linestyle=:dash, lw=1, label=\"G1/S WT 309 mins\")\n",
    "    vline!([592], color=:black, linestyle=:dash, lw=2, label=\"S/G2 WT 592 mins\")\n",
    "    vline!([688], color=:black, linestyle=:dash, lw=3, label=\"G2/M WT 688 mins\")\n",
    "    vline!([730], color=:black, linestyle=:dash, lw=4, label=\"M WT 730 mins\")\n",
    "    \n",
    "end"
   ]
  },
  {
   "cell_type": "code",
   "execution_count": null,
   "id": "65dfaa0b",
   "metadata": {},
   "outputs": [],
   "source": [
    "HistoPlot(plot_times_df)"
   ]
  }
 ],
 "metadata": {
  "@webio": {
   "lastCommId": null,
   "lastKernelId": null
  },
  "kernelspec": {
   "display_name": "Julia 1.6.2",
   "language": "julia",
   "name": "julia-1.6"
  },
  "language_info": {
   "file_extension": ".jl",
   "mimetype": "application/julia",
   "name": "julia",
   "version": "1.6.2"
  }
 },
 "nbformat": 4,
 "nbformat_minor": 5
}
