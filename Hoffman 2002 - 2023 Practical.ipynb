{
 "cells": [
  {
   "cell_type": "markdown",
   "id": "37c37818",
   "metadata": {
    "scrolled": true
   },
   "source": [
    "Hoffman et al. 2002 model of NFkB signalling. "
   ]
  },
  {
   "cell_type": "markdown",
   "id": "54550057",
   "metadata": {},
   "source": [
    "The first cell sets up the Julia packages we want, and you can select a results folder."
   ]
  },
  {
   "cell_type": "code",
   "execution_count": null,
   "id": "c5d473e6",
   "metadata": {},
   "outputs": [],
   "source": [
    "using Pkg #allows us to equip more packages\n",
    "# Pkg.add(\"DifferentialEquations\") #this package can solve a model\n",
    "# Pkg.add(\"Plots\") #this package can make graphs\n",
    "using DifferentialEquations, Plots#, Dates, CSV, Dates, DataFrames, JLD2\n",
    "#In Julia you must type \"using <packagename>\" to use an installed package\n",
    "# cd(\"C:/Users/bsms1ab2/Results\") #or change to your own results folder"
   ]
  },
  {
   "cell_type": "markdown",
   "id": "971a0618",
   "metadata": {},
   "source": [
    "The next cell contains all the information about the model.\n",
    "\n",
    "We define all the parameters, equations, and state which species comes in what order.\n",
    "\n",
    "\n"
   ]
  },
  {
   "cell_type": "code",
   "execution_count": null,
   "id": "e358306b",
   "metadata": {},
   "outputs": [],
   "source": [
    "function hoffmanprac(du,u,p,t)\n",
    "    #% Set Rate Parameters\n",
    "    #NB Parameters are defined here, and redfined by the parameter altering section below.\n",
    "    #% Association \n",
    "    a1  = 1.35;     #IKK-IkBa association \n",
    "    a2  = 0.36;     #IKK-IkBb association\n",
    "    a3  = 0.54;     #IKK-IkBe association\n",
    "    a4  = 30;       #IkBa-NFkB association\n",
    "    a5  = 30;       #IkBb-NFkB association\n",
    "    a6  = 30;       #IkBe-NFkB association\n",
    "    a7  = 11.1;     #IKK-IkBaNFkB association\n",
    "    a8  = 2.88;     #IKK-IkBbNFkB association\n",
    "    a9  = 4.2;      #IKK-IkBeNFkB association\n",
    "    #% Dissociation\n",
    "    d1  = 0.075;    #IKK-IkBa dissociation\n",
    "    d2  = 0.105;    #IKK-IkBb dissociation\n",
    "    d3  = 0.105;    #IKK-IkBe dissociation\n",
    "    d4  = 0.03;     #IkBa-NFkB dissociation\n",
    "    d5  = 0.03;     #IkBb-NFkB dissociation\n",
    "    d6  = 0.03;     #IkBe-NFkB dissociation\n",
    "    #% IKK-mediated IkB deg\n",
    "    r1  = 0.2442;   #IKK-IkBa catalysis\n",
    "    r2  = 0.09;     #IKK-IkBe catalysis\n",
    "    r3  = 0.132;    #IKK-IkBaNFkB catalysis\n",
    "    r4  = 1.221;    #IKK-IkBbNFkB catalysis\n",
    "    r5  = 0.45;     #IKK-IkBeNFkB catalysis\n",
    "    r6  = 0.66;\n",
    "\n",
    "    tr1 = 0.2448;   # % IkB translation\n",
    "    tr2 = 0.99;     # % Inducible IkBa txn #transcription #mRNA synthesis\n",
    "    tr3 = 0.0168;   # % IkB mRNA deg\n",
    "\n",
    "    deg1 = 0.0067;  #% Constitutive free IkB deg\n",
    "    deg4 = 0.0014;  #% Constitutive bound IkB deg #IkB bound to NFkB\n",
    "\n",
    "    k1  = 5.4;      #% NFkB Nuclear Import\n",
    "    k01 = 0.0048;   #% NFkB Nuclear Export\n",
    "    k2  = 0.8294;   #% IkBa:NFkB Nuclear Export\n",
    "    k2_2= 0.5 * k2; #% IkBe/b:NFkB Nuclear Export\n",
    "    tp1 = 0.018;    #% IkBa Nuclear Import\n",
    "    tp2 = 0.012;    #% IkBa Nuclear Export\n",
    "\n",
    "    tr2a= 9.2137e-5;#% IkBa Constitutive txn #transcription #mRNA synthesis\n",
    "    tr2b= 1.0701e-5;#IkBb constitutive mRNA synthesis\n",
    "    tr2e= 7.644e-6; #IkBe constitutive mRNA synthesis\n",
    "\n",
    "    h   = 2; #% Hill Coefficient for Inducible IkBa txn\n",
    "\n",
    "    k02 = 0.0072; #%IKK Degradation Rate\n",
    "    fr_mod  = 0;\n",
    "        if PHASE == 2\n",
    "            if t < PULSE_LENGTH\n",
    "                fr_mod  = -0.5 / ((1+t)^2);\n",
    "#                 fr_mod = -0.05*((1+t)^2);\n",
    "            else\n",
    "                k02     = 0.18;\n",
    "            end\n",
    "        end\n",
    "    \n",
    "    #Altering parameters:\n",
    "    param, modifier = p\n",
    "    inputparams = [a1,a2,a3,a4,a5,a6,a7,a8,a9,d1,d2,d3,d4,d5,d6,r1,r2,r3,r4,r5,r6,tr1,tr2,tr3,deg1,deg4,k1,k01,k2,k2_2,tp1,tp2,tr2a,tr2b,tr2e,h,k02]\n",
    "    inputparams[param] =  (inputparams[param]*modifier)\n",
    "    a1,a2,a3,a4,a5,a6,a7,a8,a9,d1,d2,d3,d4,d5,d6,r1,r2,r3,r4,r5,r6,tr1,tr2,tr3,deg1,deg4,k1,k01,k2,k2_2,tp1,tp2,tr2a,tr2b,tr2e,h,k02= inputparams\n",
    "\n",
    "    #defining molecules\n",
    "    NFkB         = u[1];\n",
    "    NFkBn        = u[2];\n",
    "    IkBa         = u[3];\n",
    "    IkBb         = u[4];\n",
    "    IkBe         = u[5];\n",
    "    IkBat        = u[6];\n",
    "    IkBan        = u[7];\n",
    "    IkBaNFkBn    = u[8];\n",
    "    IkBbt        = u[9];\n",
    "    IkBbn        = u[10];\n",
    "    IkBbNFkBn    = u[11];\n",
    "    IkBet        = u[12];\n",
    "    IkBen        = u[13];\n",
    "    IkBeNFkBn    = u[14];\n",
    "    IKK          = u[15];\n",
    "    IKKIkBa      = u[16];\n",
    "    IKKIkBb      = u[17];\n",
    "    IKKIkBe      = u[18];\n",
    "    IkBaNFkB     = u[19];\n",
    "    IkBbNFkB     = u[20];\n",
    "    IkBeNFkB     = u[21];\n",
    "    IKKIkBaNFkB  = u[22];\n",
    "    IKKIkBbNFkB  = u[23];\n",
    "    IKKIkBeNFkB  = u[24];\n",
    "    FR           = u[25];\n",
    "    #\n",
    "    du[1] = -a4 * IkBa * NFkB + d4 * IkBaNFkB -a5 * IkBb * NFkB + d5 * IkBbNFkB -a6 * IkBe * NFkB + d6 * IkBeNFkB -a4 * IKKIkBa * NFkB + (r4 + d4) * IKKIkBaNFkB -a5 * IKKIkBb * NFkB + (r5 + d5) * IKKIkBbNFkB -a6 * IKKIkBe * NFkB + (r6 + d6) * IKKIkBeNFkB +deg4 * IkBaNFkB+ deg4 * IkBbNFkB+ deg4 * IkBeNFkB -k1 * NFkB+ k01 * NFkBn;\n",
    "    du[2] = k1 * NFkB - a4 * IkBan * NFkBn + d4 * IkBaNFkBn - a5 * IkBbn * NFkBn + d5 * IkBbNFkBn - a6 * IkBen * NFkBn + d6 * IkBeNFkBn - k01 * NFkBn;\n",
    "    du[3] = -a1 * IKK * IkBa + d1 * IKKIkBa - a4 * IkBa * NFkB + d4 * IkBaNFkB + tr1 * IkBat - deg1 * IkBa - tp1 * IkBa + tp2 * IkBan;\n",
    "    du[4] = -a2 * IKK * IkBb + d2 * IKKIkBb - a5 * IkBb * NFkB + d5 * IkBbNFkB + tr1 * IkBbt - deg1 * IkBb - tp1 * IkBb + tp2 * IkBbn;\n",
    "    du[5] = -a3 * IKK * IkBe + d3 * IKKIkBe - a6 * IkBe * NFkB + d6 * IkBeNFkB + tr1 * IkBet - deg1 * IkBe - tp1 * IkBe + tp2 * IkBen;\n",
    "    du[6] = tr2a + tr2 * (NFkBn^h) - tr3 * IkBat;\n",
    "    du[7] = tp1 * IkBa - tp2 * IkBan - a4 * IkBan * NFkBn + d4 * IkBaNFkBn;\n",
    "    du[8] = a4 * IkBan * NFkBn - d4 * IkBaNFkBn - k2 * IkBaNFkBn\n",
    "    du[9] = tr2b - tr3 * IkBbt;\n",
    "    du[10] = tp1 * IkBb - tp2 * IkBbn - a5 * IkBbn * NFkBn + d5 * IkBbNFkBn;\n",
    "    du[11] = a5 * IkBbn * NFkBn - d5 * IkBbNFkBn - k2_2 * FR * IkBbNFkBn;\n",
    "    du[12] = tr2e - tr3 * IkBet;\n",
    "    du[13] = tp1 * IkBe - tp2 * IkBen - a6 * IkBen * NFkBn + d6 * IkBeNFkBn;\n",
    "    du[14] = a6 * IkBen * NFkBn - d6 * IkBeNFkBn - k2_2 * IkBeNFkBn;\n",
    "    du[15] = -k02 * IKK - a1 * IKK * IkBa + (d1 + r1) * IKKIkBa - a2 * IKK * IkBb + (d2 + r2) * IKKIkBb - a3 * IKK * IkBe + (d3 + r3) * IKKIkBe - a7 * IKK * IkBaNFkB + (d1 + r4) * IKKIkBaNFkB - a8 * IKK * IkBbNFkB + (d2 + r5) * IKKIkBbNFkB - a9 * IKK * IkBeNFkB + (d3 + r6) * IKKIkBeNFkB;\n",
    "    du[16] = a1 * IKK * IkBa - (d1 + r1) * IKKIkBa - a4 * IKKIkBa * NFkB + d4 * IKKIkBaNFkB;\n",
    "    du[17] = a2 * IKK * IkBb - (d2 + r2) * IKKIkBb - a5 * IKKIkBb * NFkB + d5 * IKKIkBbNFkB;\n",
    "    du[18] = a3 * IKK * IkBe - (d3 + r3) * IKKIkBe - a6 * IKKIkBe * NFkB + d6 * IKKIkBeNFkB;\n",
    "    du[19] = a4 * IkBa * NFkB - d4 * IkBaNFkB - a7 * IKK * IkBaNFkB + d1 * IKKIkBaNFkB + k2 * IkBaNFkBn - deg4 * IkBaNFkB;\n",
    "    du[20] = a5 * IkBb * NFkB - d5 * IkBbNFkB - a8 * IKK * IkBbNFkB + d2 * IKKIkBbNFkB + k2_2 * FR * IkBbNFkBn - deg4 * IkBbNFkB;\n",
    "    du[21] = a6 * IkBe * NFkB - d6 * IkBeNFkB - a9 * IKK * IkBeNFkB + d3 * IKKIkBeNFkB + k2_2 * IkBeNFkBn - deg4 * IkBeNFkB;\n",
    "    du[22] = a7 * IKK * IkBaNFkB + a4 * IKKIkBa * NFkB - (d1 + d4 + r4) * IKKIkBaNFkB;\n",
    "    du[23] = a8 * IKK * IkBbNFkB + a5 * IKKIkBb * NFkB - (d2 + d5 + r5) * IKKIkBbNFkB;\n",
    "    du[24] = a9 * IKK * IkBeNFkB + a6 * IKKIkBe * NFkB - (d3 + d6 + r6) * IKKIkBeNFkB;\n",
    "    du[25] = fr_mod;    \n",
    "end"
   ]
  },
  {
   "cell_type": "markdown",
   "id": "f588cea7",
   "metadata": {},
   "source": [
    "Below is purely for graph plotting functions. You need only notice line 1 and 14, which shows what input the function requires."
   ]
  },
  {
   "cell_type": "code",
   "execution_count": null,
   "id": "ffc78038",
   "metadata": {},
   "outputs": [],
   "source": [
    "function plotNFkBn(sollist,graphtitle=\"Nuclear NFkB\",labelz=range(1,100,step=1)) #this function only returns our \"output\", the nuclear NFkB\n",
    "    plot_array = Any[]\n",
    "    plotVar=plot()\n",
    "    for j in 1:length(sollist)\n",
    "        plot!(plotVar,sollist[j].t,sollist[j][2,:],title=graphtitle,label=labelz[j])\n",
    "    end\n",
    "    push!(plot_array,plotVar) # make a plot and add it to the plot_array\n",
    "#     plot(plotVar,sol.t,1000*(sol[2,:]+sol[11,:]),title=\"Nuclear NFkB\")\n",
    "    return plot(plot_array...)\n",
    "end\n",
    "\n",
    "####for plotting all species####\n",
    "\n",
    "function plotsols(sollist,syms,labelnames) #list of sols, list of all species' names, list of labels of multiple conditions\n",
    "#species'names must be in same order as written in model\n",
    "    plot_array = Any[]\n",
    "    for i in 1:length(syms)\n",
    "        plotVar=plot()\n",
    "        for j in 1:length(sollist)\n",
    "            plot!(plotVar,sollist[j].t,sollist[j][i,:],label=labelnames[j])\n",
    "        end\n",
    "        push!(plot_array,plotVar) # make a plot and add it to the plot_array\n",
    "    end\n",
    "    push!(plot_array,plotNFkBn_IkBbNFkB(sollist,nothing,labelnames))\n",
    "    titleArray=reshape(syms, 1, length(syms))\n",
    "    return plot(plot_array...,layout=length(plot_array),title=titleArray,size=[1250,800])\n",
    "end"
   ]
  },
  {
   "cell_type": "markdown",
   "id": "7230bc3f",
   "metadata": {},
   "source": [
    "This Cell is the simulation cell! Hit shift+enter to run your first simulation.\n",
    "\n",
    "We set up experiment conditions on line 11, then execute on line 12. All the solution output is stored in the \"sol\" object.\n",
    "\n",
    "The starting levels for our simulation is uequilibrium; which is a steady-state that we pre-calculated simply by doing a very long simulation (t=10000) without any stimulation (PHASE=1), with u0 as the starting point."
   ]
  },
  {
   "cell_type": "code",
   "execution_count": null,
   "id": "f03979bf",
   "metadata": {},
   "outputs": [],
   "source": [
    "#Define parameters for problem\n",
    "modifier=1 #modifier = 1.0 is the wildtype scenario.\n",
    "params=[24]\n",
    "tspan = (0.0, 360.0)\n",
    "PHASE = 2\n",
    "PULSE_LENGTH = 360\n",
    "u0 = [0.1, 0.001, 0.1, 0.0, 0.0, 0.0, 0.0, 0.0, 0.0, 0.0, 0.0, 0.0, 0.0, 0.0, 0.0, 0.0, 0.0, 0.0, 0.0, 0.0, 0.0, 0.0, 0.0, 0.0, 1.0]\n",
    "uequilibrium = [0.000258127017718267, 0.000226467266688231, 0.183290800140255, 0.0212942661994315, 0.0152110429705970, 0.00548736753123294, 0.177790657130346, 0.00140553051458945, 0.000636964285714259, 0.0209044179333966, 0.000319372591123225, 0.000454999999999981, 0.0149325643101368, 0.000228136070137766, 0.1,0,0,0, 0.0823285431138940, 0.00946950853897954, 0.00676431392130725,0,0,0,0.5] #taken from end of a simulation with tspan=(0.0,10000.0), initialconditions = u0, PHASE=1, and changed 25 (fr_mod) to 0.5\n",
    "\n",
    "#Defining and solving problem\n",
    "prob_hoffman = ODEProblem(hoffmanprac,uequilibrium,tspan,[params,modifier])\n",
    "sol=solve(prob_hoffman)"
   ]
  },
  {
   "cell_type": "markdown",
   "id": "3cb449a8",
   "metadata": {},
   "source": [
    "The output isn't human-friendly to look at, but you can see a list of timepoints t, and a list of protein levels u.\n",
    "\n",
    "Let's generate a graph using that plot function from above:"
   ]
  },
  {
   "cell_type": "code",
   "execution_count": null,
   "id": "6c4ae914",
   "metadata": {
    "scrolled": false
   },
   "outputs": [],
   "source": [
    "#Plotting in a slightly quicker way\n",
    "syms=[\"NFkB\",\"NFkBn\",\"IkBa\",\"IkBb\",\"IkBe\",\"IkBat\",\"IkBan\",\"IkBaNFkBn\",\"IkBbt\",\"IkBbn\",\"IkBbNFkBn\",\"IkBet\",\"IkBen\",\"IkBeNFkBn\",\"IKK\",\"IKKIkBa\",\"IKKIkBb\",\"IKKIkBe\",\"IkBaNFkB\",\"IkBbNFkb\",\"IkBeNFkB\",\"IKKIkBaNFkb\",\"IKKIkBbNFkB\",\"IKKIkBeNFkB\",\"FR\"]\n",
    "labelnames=[\"1\" \"2\" \"3\"]\n",
    "plotsols([sol],syms,[\"y1\"])\n",
    "# plot!(legend=:none, )"
   ]
  },
  {
   "cell_type": "code",
   "execution_count": null,
   "id": "404d856f",
   "metadata": {
    "scrolled": false
   },
   "outputs": [],
   "source": [
    "plotNFkBn([sol])"
   ]
  },
  {
   "cell_type": "code",
   "execution_count": null,
   "id": "21005a4e",
   "metadata": {},
   "outputs": [],
   "source": [
    "paramnames=[\"a1\",\"a2\",\"a3\",\"a4\",\"a5\",\"a6\",\"a7\",\"a8\",\"a9\",\"d1\",\"d2\",\"d3\",\"d4\",\"d5\",\"d6\",\"r1\",\"r2\",\"r3\",\"r4\",\"r5\",\"r6\",\"tr1\",\"tr2\",\"tr3\",\"deg1\",\"deg4\",\"k1\",\"k01\",\"k2\",\"k2_2\",\"tp1\",\"tp2\",\"tr2a\",\"tr2b\",\"tr2e\",\"h\",\"k02\"];"
   ]
  },
  {
   "cell_type": "markdown",
   "id": "6e15b4a1",
   "metadata": {},
   "source": [
    "In the cell below you can run paramnames[index] to check that you have the right index for the parameter you want to change!!"
   ]
  },
  {
   "cell_type": "code",
   "execution_count": null,
   "id": "57d9bc31",
   "metadata": {},
   "outputs": [],
   "source": [
    "paramnames[37]"
   ]
  },
  {
   "cell_type": "markdown",
   "id": "b5a73c79",
   "metadata": {},
   "source": [
    "We can do multiple simulation runs and plot them on the same graph.\n",
    "\n",
    "Each time we go through the for loop, we change the multiplier for that parameter:\n",
    "\n",
    "for i = [0.1, 0.5, 1, 2, 10] \n",
    "\n",
    "will set the parameter at a tenth, half, normal, double, and tenfold\n",
    "\n",
    "It's best to include a 1 in that list so you can compare to the wildtype!!!\n",
    "\n",
    "TASK: Set a Parameter in line 5.\n",
    "\n",
    "This will simulate your model with the changed parameter.\n",
    "\n"
   ]
  },
  {
   "cell_type": "code",
   "execution_count": null,
   "id": "0abe5215",
   "metadata": {},
   "outputs": [],
   "source": [
    "#We can plot multiple tests if we run them in a for loop\n",
    "sollist2=[]\n",
    "for modifier = [0.1, 1]       \n",
    "    #Define parameters for problem\n",
    "    params= [7]         \n",
    "    tspan = (0.0, 360.0)\n",
    "    PHASE = 2\n",
    "    PULSE_LENGTH=360    \n",
    "    u0 = [0.1, 0.001, 0.1, 0.0, 0.0, 0.0, 0.0, 0.0, 0.0, 0.0, 0.0, 0.0, 0.0, 0.0, 0.0, 0.0, 0.0, 0.0, 0.0, 0.0, 0.0, 0.0, 0.0, 0.0, 1.0]\n",
    "    uequilibrium = [0.000258127017718267, 0.000226467266688231, 0.183290800140255, 0.0212942661994315, 0.0152110429705970, 0.00548736753123294, 0.177790657130346, 0.00140553051458945, 0.000636964285714259, 0.0209044179333966, 0.000319372591123225, 0.000454999999999981, 0.0149325643101368, 0.000228136070137766, 0.1,0,0,0, 0.0823285431138940, 0.00946950853897954, 0.00676431392130725,0,0,0,0.5] #taken from end of a tspan=(0.0,10000.0), and changed 25 (fr_mod) to 0.5\n",
    "    #Defining and solving problem\n",
    "    prob_hoffman = ODEProblem(hoffmanprac,uequilibrium,tspan,[params,modifier])\n",
    "    sol=solve(prob_hoffman)\n",
    "    push!(sollist2, sol)\n",
    "    println(\"parameter \",paramnames[params],\" was modified by \",modifier)\n",
    "end\n",
    "plotsols(sollist2,syms,[0.01,1])"
   ]
  },
  {
   "cell_type": "markdown",
   "id": "f7bf2dfe",
   "metadata": {},
   "source": [
    "Bear in mind 20 experiments will take ~20x as long to run. "
   ]
  },
  {
   "cell_type": "markdown",
   "id": "4e4bb682",
   "metadata": {},
   "source": [
    "and this last cell will plot all the nuclear NFkB, which we consider active:"
   ]
  },
  {
   "cell_type": "code",
   "execution_count": null,
   "id": "6db31853",
   "metadata": {
    "scrolled": false
   },
   "outputs": [],
   "source": [
    "plotNFkBn(sollist2)\n",
    "plot!(legendtitle=paramnames[params])\n",
    "# plot!(legend=:none,thickness_scaling=1.5)"
   ]
  },
  {
   "cell_type": "code",
   "execution_count": null,
   "id": "036544a8",
   "metadata": {},
   "outputs": [],
   "source": [
    "# savefig(\"ikbalpha example\")"
   ]
  },
  {
   "cell_type": "code",
   "execution_count": null,
   "id": "3637a0e2",
   "metadata": {},
   "outputs": [],
   "source": [
    "pwd() #will show you where the picture saved. You can download things from the jupyter FileView"
   ]
  },
  {
   "cell_type": "code",
   "execution_count": null,
   "id": "11d0f4e1",
   "metadata": {},
   "outputs": [],
   "source": [
    "The following model is a mutated version."
   ]
  },
  {
   "cell_type": "code",
   "execution_count": null,
   "id": "644be590",
   "metadata": {},
   "outputs": [],
   "source": [
    "function mutantHoffmanModel(du,u,p,t)\n",
    "    #% Set Rate Parameters\n",
    "    #NB Parameters are defined here, and redfined by the parameter altering section below.\n",
    "    #% Association \n",
    "    a1  = 1.35*10;  #####MUTANT######   #IKK-IkBa association \n",
    "    a2  = 0.36;     #IKK-IkBb association\n",
    "    a3  = 0.54;     #IKK-IkBe association\n",
    "    a4  = 30;       #IkBa-NFkB association\n",
    "    a5  = 30;       #IkBb-NFkB association\n",
    "    a6  = 30;       #IkBe-NFkB association\n",
    "    a7  = 11.1;     #IKK-IkBaNFkB association\n",
    "    a8  = 2.88;     #IKK-IkBbNFkB association\n",
    "    a9  = 4.2;      #IKK-IkBeNFkB association\n",
    "    #% Dissociation\n",
    "    d1  = 0.075;    #IKK-IkBa dissociation\n",
    "    d2  = 0.105;    #IKK-IkBb dissociation\n",
    "    d3  = 0.105;    #IKK-IkBe dissociation\n",
    "    d4  = 0.03;     #IkBa-NFkB dissociation\n",
    "    d5  = 0.03;     #IkBb-NFkB dissociation\n",
    "    d6  = 0.03;     #IkBe-NFkB dissociation\n",
    "    #% IKK-mediated IkB deg\n",
    "    r1  = 0.2442;   #IKK-IkBa catalysis\n",
    "    r2  = 0.09;     #IKK-IkBe catalysis\n",
    "    r3  = 0.132;    #IKK-IkBaNFkB catalysis\n",
    "    r4  = 1.221;    #IKK-IkBbNFkB catalysis\n",
    "    r5  = 0.45;     #IKK-IkBeNFkB catalysis\n",
    "    r6  = 0.66;\n",
    "\n",
    "    tr1 = 0.2448;   # % IkB translation\n",
    "    tr2 = 0.99;     # % Inducible IkBa txn #transcription #mRNA synthesis\n",
    "    tr3 = 0.0168;   # % IkB mRNA deg\n",
    "\n",
    "    deg1 = 0.0067;  #% Constitutive free IkB deg\n",
    "    deg4 = 0.0014;  #% Constitutive bound IkB deg #IkB bound to NFkB\n",
    "\n",
    "    k1  = 5.4;      #% NFkB Nuclear Import\n",
    "    k01 = 0.0048;   #% NFkB Nuclear Export\n",
    "    k2  = 0.8294;   #% IkBa:NFkB Nuclear Export\n",
    "    k2_2= 0.5 * k2; #% IkBe/b:NFkB Nuclear Export\n",
    "    tp1 = 0.018;    #% IkBa Nuclear Import\n",
    "    tp2 = 0.012;    #% IkBa Nuclear Export\n",
    "\n",
    "    tr2a= 9.2137e-5;#% IkBa Constitutive txn #transcription #mRNA synthesis\n",
    "    tr2b= 1.0701e-5;#IkBb constitutive mRNA synthesis\n",
    "    tr2e= 7.644e-6; #IkBe constitutive mRNA synthesis\n",
    "\n",
    "    h   = 2; #% Hill Coefficient for Inducible IkBa txn\n",
    "\n",
    "    k02 = 0.0072; #%IKK Degradation Rate\n",
    "    fr_mod  = 0;\n",
    "        if PHASE == 2\n",
    "            if t < PULSE_LENGTH\n",
    "                fr_mod  = -0.5 / ((1+t)^2);\n",
    "#                 fr_mod = -0.05*((1+t)^2);\n",
    "            else\n",
    "                k02     = 0.18;\n",
    "            end\n",
    "        end\n",
    "    \n",
    "    #Altering parameters:\n",
    "    param, modifier = p\n",
    "    inputparams = [a1,a2,a3,a4,a5,a6,a7,a8,a9,d1,d2,d3,d4,d5,d6,r1,r2,r3,r4,r5,r6,tr1,tr2,tr3,deg1,deg4,k1,k01,k2,k2_2,tp1,tp2,tr2a,tr2b,tr2e,h,k02]\n",
    "    inputparams[param] =  (inputparams[param]*modifier)\n",
    "    a1,a2,a3,a4,a5,a6,a7,a8,a9,d1,d2,d3,d4,d5,d6,r1,r2,r3,r4,r5,r6,tr1,tr2,tr3,deg1,deg4,k1,k01,k2,k2_2,tp1,tp2,tr2a,tr2b,tr2e,h,k02= inputparams\n",
    "\n",
    "    #defining molecules\n",
    "    NFkB         = u[1];\n",
    "    NFkBn        = u[2];\n",
    "    IkBa         = u[3];\n",
    "    IkBb         = u[4];\n",
    "    IkBe         = u[5];\n",
    "    IkBat        = u[6];\n",
    "    IkBan        = u[7];\n",
    "    IkBaNFkBn    = u[8];\n",
    "    IkBbt        = u[9];\n",
    "    IkBbn        = u[10];\n",
    "    IkBbNFkBn    = u[11];\n",
    "    IkBet        = u[12];\n",
    "    IkBen        = u[13];\n",
    "    IkBeNFkBn    = u[14];\n",
    "    IKK          = u[15];\n",
    "    IKKIkBa      = u[16];\n",
    "    IKKIkBb      = u[17];\n",
    "    IKKIkBe      = u[18];\n",
    "    IkBaNFkB     = u[19];\n",
    "    IkBbNFkB     = u[20];\n",
    "    IkBeNFkB     = u[21];\n",
    "    IKKIkBaNFkB  = u[22];\n",
    "    IKKIkBbNFkB  = u[23];\n",
    "    IKKIkBeNFkB  = u[24];\n",
    "    FR           = u[25];\n",
    "    #\n",
    "    du[1] = -a4 * IkBa * NFkB + d4 * IkBaNFkB -a5 * IkBb * NFkB + d5 * IkBbNFkB -a6 * IkBe * NFkB + d6 * IkBeNFkB -a4 * IKKIkBa * NFkB + (r4 + d4) * IKKIkBaNFkB -a5 * IKKIkBb * NFkB + (r5 + d5) * IKKIkBbNFkB -a6 * IKKIkBe * NFkB + (r6 + d6) * IKKIkBeNFkB +deg4 * IkBaNFkB+ deg4 * IkBbNFkB+ deg4 * IkBeNFkB -k1 * NFkB+ k01 * NFkBn;\n",
    "    du[2] = k1 * NFkB - a4 * IkBan * NFkBn + d4 * IkBaNFkBn - a5 * IkBbn * NFkBn + d5 * IkBbNFkBn - a6 * IkBen * NFkBn + d6 * IkBeNFkBn - k01 * NFkBn;\n",
    "    du[3] = -a1 * IKK * IkBa + d1 * IKKIkBa - a4 * IkBa * NFkB + d4 * IkBaNFkB + tr1 * IkBat - deg1 * IkBa - tp1 * IkBa + tp2 * IkBan;\n",
    "    du[4] = -a2 * IKK * IkBb + d2 * IKKIkBb - a5 * IkBb * NFkB + d5 * IkBbNFkB + tr1 * IkBbt - deg1 * IkBb - tp1 * IkBb + tp2 * IkBbn;\n",
    "    du[5] = -a3 * IKK * IkBe + d3 * IKKIkBe - a6 * IkBe * NFkB + d6 * IkBeNFkB + tr1 * IkBet - deg1 * IkBe - tp1 * IkBe + tp2 * IkBen;\n",
    "    du[6] = tr2a + tr2 * (NFkBn^h) - tr3 * IkBat;\n",
    "    du[7] = tp1 * IkBa - tp2 * IkBan - a4 * IkBan * NFkBn + d4 * IkBaNFkBn;\n",
    "    du[8] = a4 * IkBan * NFkBn - d4 * IkBaNFkBn - k2 * IkBaNFkBn\n",
    "    du[9] = tr2b - tr3 * IkBbt;\n",
    "    du[10] = tp1 * IkBb - tp2 * IkBbn - a5 * IkBbn * NFkBn + d5 * IkBbNFkBn;\n",
    "    du[11] = a5 * IkBbn * NFkBn - d5 * IkBbNFkBn - k2_2 * FR * IkBbNFkBn;\n",
    "    du[12] = tr2e - tr3 * IkBet;\n",
    "    du[13] = tp1 * IkBe - tp2 * IkBen - a6 * IkBen * NFkBn + d6 * IkBeNFkBn;\n",
    "    du[14] = a6 * IkBen * NFkBn - d6 * IkBeNFkBn - k2_2 * IkBeNFkBn;\n",
    "    du[15] = -k02 * IKK - a1 * IKK * IkBa + (d1 + r1) * IKKIkBa - a2 * IKK * IkBb + (d2 + r2) * IKKIkBb - a3 * IKK * IkBe + (d3 + r3) * IKKIkBe - a7 * IKK * IkBaNFkB + (d1 + r4) * IKKIkBaNFkB - a8 * IKK * IkBbNFkB + (d2 + r5) * IKKIkBbNFkB - a9 * IKK * IkBeNFkB + (d3 + r6) * IKKIkBeNFkB;\n",
    "    du[16] = a1 * IKK * IkBa - (d1 + r1) * IKKIkBa - a4 * IKKIkBa * NFkB + d4 * IKKIkBaNFkB;\n",
    "    du[17] = a2 * IKK * IkBb - (d2 + r2) * IKKIkBb - a5 * IKKIkBb * NFkB + d5 * IKKIkBbNFkB;\n",
    "    du[18] = a3 * IKK * IkBe - (d3 + r3) * IKKIkBe - a6 * IKKIkBe * NFkB + d6 * IKKIkBeNFkB;\n",
    "    du[19] = a4 * IkBa * NFkB - d4 * IkBaNFkB - a7 * IKK * IkBaNFkB + d1 * IKKIkBaNFkB + k2 * IkBaNFkBn - deg4 * IkBaNFkB;\n",
    "    du[20] = a5 * IkBb * NFkB - d5 * IkBbNFkB - a8 * IKK * IkBbNFkB + d2 * IKKIkBbNFkB + k2_2 * FR * IkBbNFkBn - deg4 * IkBbNFkB;\n",
    "    du[21] = a6 * IkBe * NFkB - d6 * IkBeNFkB - a9 * IKK * IkBeNFkB + d3 * IKKIkBeNFkB + k2_2 * IkBeNFkBn - deg4 * IkBeNFkB;\n",
    "    du[22] = a7 * IKK * IkBaNFkB + a4 * IKKIkBa * NFkB - (d1 + d4 + r4) * IKKIkBaNFkB;\n",
    "    du[23] = a8 * IKK * IkBbNFkB + a5 * IKKIkBb * NFkB - (d2 + d5 + r5) * IKKIkBbNFkB;\n",
    "    du[24] = a9 * IKK * IkBeNFkB + a6 * IKKIkBe * NFkB - (d3 + d6 + r6) * IKKIkBeNFkB;\n",
    "    du[25] = fr_mod;    \n",
    "end"
   ]
  },
  {
   "cell_type": "markdown",
   "id": "c2400155",
   "metadata": {},
   "source": [
    "See the above mutant has a significant change to one parameter? \n",
    "\n",
    "How does it behave? Let's simulate:"
   ]
  },
  {
   "cell_type": "code",
   "execution_count": null,
   "id": "e59a9335",
   "metadata": {
    "scrolled": false
   },
   "outputs": [],
   "source": [
    "# MUTANT SIMULATION \n",
    "modifier=1\n",
    "params=[24]\n",
    "\n",
    "prob_mut = ODEProblem(mutantHoffmanModel,uequilibrium,tspan,[params,modifier])\n",
    "sol_mut = solve(prob_mut)\n",
    "\n",
    "labelnames=[\"1\" \"2\" \"3\"]\n",
    "plotsols([sol_mut],syms,[\"y1\"])"
   ]
  },
  {
   "cell_type": "markdown",
   "id": "aa0ee9d2",
   "metadata": {},
   "source": [
    "Woah, this mutant does not oscillate in a healthy way.\n",
    "\n",
    "What might this mean for the patient's cancer if their NFkappaB were this radical?"
   ]
  },
  {
   "cell_type": "markdown",
   "id": "1d7d69ee",
   "metadata": {},
   "source": [
    "Next we will do a \"parameter scan\", where we change every parameter systematically. Therefore this is a longer simulation!"
   ]
  },
  {
   "cell_type": "markdown",
   "id": "4c96a2b5",
   "metadata": {},
   "source": [
    "\n",
    "\n",
    "\n",
    "Pick a sensible range for \"ilist\" and run the parameter scan on the MUTANT model.\n",
    "\n",
    "Out of all the resulting graphs, which trajectory looks most similar to wildtype NFkBn? \n",
    "\n",
    "What parameter did you modify, and by how much?\n",
    "\n",
    "Hint: you can click on the white space left of the output to expand."
   ]
  },
  {
   "cell_type": "code",
   "execution_count": null,
   "id": "7a19204d",
   "metadata": {
    "scrolled": false
   },
   "outputs": [],
   "source": [
    "eachparameter=[]\n",
    "ilist=[0.1,0.5,1,2,10]\n",
    "for j in 1:37\n",
    "    sollist3=[]\n",
    "    for i in ilist\n",
    "        modifier=i\n",
    "        params=[j]\n",
    "        tspan = (0.0, 360.0)\n",
    "        PHASE = 2\n",
    "        PULSE_LENGTH=360\n",
    "        uequilibrium = [0.000258127017718267, 0.000226467266688231, 0.183290800140255, 0.0212942661994315, 0.0152110429705970, 0.00548736753123294, 0.177790657130346, 0.00140553051458945, 0.000636964285714259, 0.0209044179333966, 0.000319372591123225, 0.000454999999999981, 0.0149325643101368, 0.000228136070137766, 0.1,0,0,0, 0.0823285431138940, 0.00946950853897954, 0.00676431392130725,0,0,0,0.5]\n",
    "        prob_hoffman = ODEProblem(mutantHoffmanModel,uequilibrium,tspan,[params,i])\n",
    "#         prob_hoffman = ODEProblem(hoffmanprac,uequilibrium,tspan,[params,i])\n",
    "        sol=solve(prob_hoffman)\n",
    "        push!(sollist3, sol)\n",
    "    end\n",
    "    push!(eachparameter,plotNFkBn(sollist3,paramnames[j],ilist))\n",
    "end"
   ]
  },
  {
   "cell_type": "code",
   "execution_count": null,
   "id": "5b33c938",
   "metadata": {},
   "outputs": [],
   "source": [
    "for n in eachparameter\n",
    "    display(n)\n",
    "end"
   ]
  },
  {
   "cell_type": "markdown",
   "id": "cee182d4",
   "metadata": {},
   "source": [
    "Was it enough? Is there an obvious fix?\n",
    "\n",
    "Often in biology we can't drug exactly what we want to.\n",
    "\n",
    "Is there a second place fix?\n",
    "\n",
    "Could you achieve a new fix with a different range of parameter modifiers? (in ilist)?"
   ]
  },
  {
   "cell_type": "markdown",
   "id": "7c0d92c2",
   "metadata": {},
   "source": []
  },
  {
   "cell_type": "code",
   "execution_count": null,
   "id": "dd49c9d1",
   "metadata": {},
   "outputs": [],
   "source": []
  },
  {
   "cell_type": "markdown",
   "id": "efab8ddf",
   "metadata": {},
   "source": [
    "**SSC Assessment:**\n",
    "\n",
    "If you liked the Hoffman2002 NFkB modelling, I suggest:\n",
    "\n",
    "Creating your own mutant with multiple perturbed parameters.\n",
    "\n",
    "Trying to fix it (return NFkBn trajectory to a wildtype shape) \n",
    "\n",
    "...using a \"drug\" that changes a parameter."
   ]
  },
  {
   "cell_type": "code",
   "execution_count": null,
   "id": "b4961f34",
   "metadata": {},
   "outputs": [],
   "source": []
  }
 ],
 "metadata": {
  "kernelspec": {
   "display_name": "Julia 1.5.1",
   "language": "julia",
   "name": "julia-1.5"
  },
  "language_info": {
   "file_extension": ".jl",
   "mimetype": "application/julia",
   "name": "julia",
   "version": "1.5.1"
  }
 },
 "nbformat": 4,
 "nbformat_minor": 5
}
