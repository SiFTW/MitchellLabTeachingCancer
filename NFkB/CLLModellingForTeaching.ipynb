{
 "cells": [
  {
   "cell_type": "markdown",
   "id": "7a00466b",
   "metadata": {},
   "source": [
    "# TRI-MODEL WITH SHARED TAK1"
   ]
  },
  {
   "cell_type": "code",
   "execution_count": null,
   "id": "ca57f287",
   "metadata": {},
   "outputs": [],
   "source": [
    "display(\"image/png\", read(\"triModelA20Diagram.png\"))"
   ]
  },
  {
   "cell_type": "code",
   "execution_count": null,
   "id": "0e8b7add",
   "metadata": {},
   "outputs": [],
   "source": [
    "###########################################################################\n",
    "### File locations  ######################################################\n",
    "###########################################################################\n",
    "### set up where CSV2Julia is\n",
    "locationOfCSV2Julia=\"csv2Julia/csv2model-multiscale.py\"\n",
    "#we use the same initial conditions at the PNAS paper 2019 Mitchell Roy et al.\n",
    "fullModelInitFile=\"initialConditions/fullModelInits.csv\"\n",
    "moduleDefinitionFilesFolder=\"moduleDefinitionFiles/\"\n",
    "locationOfFixSpexies=\"utilityFunctions/\""
   ]
  },
  {
   "cell_type": "code",
   "execution_count": null,
   "id": "5db40297",
   "metadata": {},
   "outputs": [],
   "source": [
    "#packages we need\n",
    "using DifferentialEquations\n",
    "using Plots \n",
    "using Pkg\n",
    "# Pkg.add(Pkg.PackageSpec(;name=\"Parsers\", version=\"2.2.4\"))\n",
    "using CSV\n",
    "using DataFrames\n",
    "using JLD2\n",
    "using FileIO\n",
    "using StatsPlots\n",
    "using Plots.PlotMeasures\n",
    "\n",
    "delay=false"
   ]
  },
  {
   "cell_type": "code",
   "execution_count": null,
   "id": "ece46988",
   "metadata": {},
   "outputs": [],
   "source": [
    "include(\"combineModels.jl\")\n",
    "combinedModelLocation=combineModels([\"BCR\",\"TLR\",\"NFkB\"])"
   ]
  },
  {
   "cell_type": "code",
   "execution_count": null,
   "id": "43c4257f",
   "metadata": {},
   "outputs": [],
   "source": [
    "include(\"generateModel.jl\")"
   ]
  },
  {
   "cell_type": "code",
   "execution_count": null,
   "id": "77579521",
   "metadata": {},
   "outputs": [],
   "source": [
    "include(\"defineInputs.jl\")\n",
    "\n",
    "#bcrSignalSS\n",
    "#bcrSignalSSHigh\n",
    "#tlrSignalSS\n",
    "#bcrSignalTC\n",
    "#tlrSignalTC\n",
    "#nikSignalSS\n",
    "#nikSignalTC\n",
    "\n",
    "t=0\n",
    "include(\"distributedModelFiles/odeModel.jl\")\n",
    "include(\"variableNames.jl\")\n",
    "include(\"scanIncludes.jl\")\n",
    "\n",
    "include(\"runSimulation.jl\")\n",
    "include(\"plotAllSpecies.jl\")\n",
    "colorArray=palette(:seaborn_colorblind)\n",
    "\n",
    "first_cell=1\n",
    "last_cell=1\n",
    "preCV=0.11\n",
    "maxTimeTC=12*60\n",
    "maxTimeSS=1000*60"
   ]
  },
  {
   "cell_type": "code",
   "execution_count": null,
   "id": "36c94561",
   "metadata": {},
   "outputs": [],
   "source": [
    "conditions=[]\n",
    "paramsToChange=[]\n",
    "modifyAmount=[]\n",
    "BCRSSArray=[]\n",
    "BCRTCArray=[]\n",
    "TLRSSArray=[]\n",
    "TLRTCArray=[]\n",
    "NIKSSArray=[]\n",
    "NIKTCArray=[]\n",
    "\n",
    "#M-CLL\n",
    "push!(conditions,\"M-CLL CpG\")\n",
    "push!(paramsToChange,[\"k1_MYD88SELFACTIVATION-TLR\"])\n",
    "push!(modifyAmount,[0.0])\n",
    "push!(BCRSSArray,bcrSignalSS)\n",
    "push!(BCRTCArray,bcrSignalSS)\n",
    "push!(TLRSSArray,tlrSignalSS)\n",
    "push!(TLRTCArray,tlrSignalTC)\n",
    "push!(NIKSSArray,nikSignalSS)\n",
    "push!(NIKTCArray,nikSignalSS)\n",
    "\n",
    "#U-CLL\n",
    "push!(conditions,\"U-CLL CpG\")\n",
    "push!(paramsToChange,[\"k1_MYD88SELFACTIVATION-TLR\"])\n",
    "push!(modifyAmount,[0.0])\n",
    "push!(BCRSSArray,bcrSignalSSHigh)\n",
    "push!(BCRTCArray,bcrSignalSSHigh)\n",
    "push!(TLRSSArray,tlrSignalSS)\n",
    "push!(TLRTCArray,tlrSignalTC)\n",
    "push!(NIKSSArray,nikSignalSS)\n",
    "push!(NIKTCArray,nikSignalSS)\n",
    "\n",
    "\n",
    "println(\"Summary of conditions being run:\")\n",
    "folder=\"teachingOutputs\"\n",
    "show(IOContext(stdout, :limit => false), \"text/plain\", hcat(conditions,paramsToChange,modifyAmount))"
   ]
  },
  {
   "cell_type": "code",
   "execution_count": null,
   "id": "91a90d63",
   "metadata": {},
   "outputs": [],
   "source": [
    "runSimulation(first_cell,last_cell,conditions,folder,BCRSSArray,BCRTCArray,TLRSSArray,TLRTCArray,NIKSSArray,NIKTCArray)"
   ]
  },
  {
   "cell_type": "code",
   "execution_count": null,
   "id": "62bb04e3",
   "metadata": {},
   "outputs": [],
   "source": [
    "hoursToPlot=12\n",
    "colorArray=palette(:seaborn_colorblind)\n",
    "\n",
    "speciesToPlot=syms\n",
    "maxValOfYAxis=0\n",
    "\n",
    "speciesToPlot=[\"RelAnp50n\",\"cRelnp50n\",\"RelBnp52n\"]\n",
    "qualityScaling=0.5\n",
    "#let't plot!\n",
    "gr()\n",
    "plotAllSpecies(speciesToPlot,conditions,colorArray,first_cell,last_cell,folder,hoursToPlot,maxValOfYAxis,qualityScaling,60)"
   ]
  },
  {
   "cell_type": "markdown",
   "id": "45fae6a4-17a3-4fdc-961d-5c4265afc655",
   "metadata": {},
   "source": [
    "# Now run your own simulations"
   ]
  },
  {
   "cell_type": "code",
   "execution_count": null,
   "id": "2225f41f-b043-4cba-93f3-2879a6edbd5e",
   "metadata": {},
   "outputs": [],
   "source": [
    "conditions=[]\n",
    "paramsToChange=[]\n",
    "modifyAmount=[]\n",
    "BCRSSArray=[]\n",
    "BCRTCArray=[]\n",
    "TLRSSArray=[]\n",
    "TLRTCArray=[]\n",
    "NIKSSArray=[]\n",
    "NIKTCArray=[]\n",
    "\n",
    "#healthy\n",
    "push!(conditions,\"WT\")\n",
    "push!(paramsToChange,[\"k1_MYD88SELFACTIVATION-TLR\"])\n",
    "push!(modifyAmount,[0.0])\n",
    "push!(BCRSSArray,bcrSignalSS)\n",
    "push!(BCRTCArray,bcrSignalSS)\n",
    "push!(TLRSSArray,tlrSignalSS)\n",
    "push!(TLRTCArray,tlrSignalTC)\n",
    "push!(NIKSSArray,nikSignalSS)\n",
    "push!(NIKTCArray,nikSignalSS)\n",
    "\n",
    "#cancer\n",
    "push!(conditions,\"myd88 l265p\")\n",
    "push!(paramsToChange,[\"k1_MYD88SELFACTIVATION-TLR\"])\n",
    "push!(modifyAmount,[1.0])\n",
    "push!(BCRSSArray,bcrSignalSSHigh)\n",
    "push!(BCRTCArray,bcrSignalSSHigh)\n",
    "push!(TLRSSArray,tlrSignalSS)\n",
    "push!(TLRTCArray,tlrSignalTC)\n",
    "push!(NIKSSArray,nikSignalSS)\n",
    "push!(NIKTCArray,nikSignalSS)\n",
    "\n",
    "\n",
    "# example Druggable parameters:\n",
    "# \"k1_IKKdeactivation-linking\" = IKK inhibitors\n",
    "# \"k1_NIKSynth-NFkB\" = NIK inhibitors\n",
    "# \"k1_RelASynth-NFkB\" = RELA inhibtors\n",
    "# \"basal_p50Synth-NFkB\" = p50 inhibitors\n",
    "# \"basal_cRelSynth-NFkB\" = cRel inhibitors\n",
    "# \"k1_CpBS-BCR\" = BTK inhibitor (BCR)\n",
    "# \"k1_IKKKdeactivation-TLR\" = TRAF6 inhibitors\n",
    "# \"k1_IkBaSynth-NFkB\" = IkBa inhibitors\n",
    "\n",
    "#cancer + drug\n",
    "push!(conditions,\"myd88 l265p + drug\")\n",
    "push!(paramsToChange,[\"k1_MYD88SELFACTIVATION-TLR\",\"k1_IkBaSynth-NFkB\"])\n",
    "push!(modifyAmount,[1.0,10.0])\n",
    "push!(BCRSSArray,bcrSignalSSHigh)\n",
    "push!(BCRTCArray,bcrSignalSSHigh)\n",
    "push!(TLRSSArray,tlrSignalSS)\n",
    "push!(TLRTCArray,tlrSignalTC)\n",
    "push!(NIKSSArray,nikSignalSS)\n",
    "push!(NIKTCArray,nikSignalSS)\n",
    "\n",
    "\n",
    "println(\"Summary of conditions being run:\")\n",
    "folder=\"teachingOutputs\"\n",
    "show(IOContext(stdout, :limit => false), \"text/plain\", hcat(conditions,paramsToChange,modifyAmount))"
   ]
  },
  {
   "cell_type": "code",
   "execution_count": null,
   "id": "3a3e4ab4-07b3-41a8-a3f8-ed749799150e",
   "metadata": {},
   "outputs": [],
   "source": [
    "runSimulation(first_cell,last_cell,conditions,folder,BCRSSArray,BCRTCArray,TLRSSArray,TLRTCArray,NIKSSArray,NIKTCArray)"
   ]
  },
  {
   "cell_type": "code",
   "execution_count": null,
   "id": "6400e70f-ad81-45cb-956e-176e3eeaa40b",
   "metadata": {},
   "outputs": [],
   "source": [
    "hoursToPlot=12\n",
    "colorArray=palette(:seaborn_colorblind)\n",
    "\n",
    "speciesToPlot=syms\n",
    "maxValOfYAxis=0\n",
    "\n",
    "speciesToPlot=[\"RelAnp50n\",\"cRelnp50n\",\"RelBnp52n\"]\n",
    "qualityScaling=0.5\n",
    "#let't plot!\n",
    "gr()\n",
    "plotAllSpecies(speciesToPlot,conditions,colorArray,first_cell,last_cell,folder,hoursToPlot,maxValOfYAxis,qualityScaling,60)"
   ]
  }
 ],
 "metadata": {
  "kernelspec": {
   "display_name": "Julia 1.8.5 [conda env:base] *",
   "language": "julia",
   "name": "conda-base-julia-1.8"
  },
  "language_info": {
   "file_extension": ".jl",
   "mimetype": "application/julia",
   "name": "julia",
   "version": "1.8.5"
  }
 },
 "nbformat": 4,
 "nbformat_minor": 5
}
